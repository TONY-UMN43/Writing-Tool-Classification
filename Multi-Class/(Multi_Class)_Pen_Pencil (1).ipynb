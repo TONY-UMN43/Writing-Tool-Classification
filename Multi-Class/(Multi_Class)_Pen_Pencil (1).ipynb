{
  "nbformat": 4,
  "nbformat_minor": 0,
  "metadata": {
    "colab": {
      "provenance": []
    },
    "kernelspec": {
      "name": "python3",
      "display_name": "Python 3"
    },
    "language_info": {
      "name": "python"
    }
  },
  "cells": [
    {
      "cell_type": "code",
      "execution_count": 226,
      "metadata": {
        "id": "crG7Lho1xhG_"
      },
      "outputs": [],
      "source": [
        "import torch\n",
        "import torch.nn as nn\n",
        "import torch.nn.functional as F\n",
        "import numpy as np\n",
        "import pandas as pd\n",
        "import sklearn\n",
        "from sklearn.metrics import confusion_matrix\n",
        "import matplotlib.pyplot as plt"
      ]
    },
    {
      "cell_type": "code",
      "source": [
        "import zipfile\n",
        "\n",
        "file_path = '/content/Multi_Class.zip'\n",
        "\n",
        "new_file = 'Multiclass'\n",
        "\n",
        "with zipfile.ZipFile(file_path,'r') as zip_ref:\n",
        "  zip_ref.extractall(new_file)\n",
        "\n",
        "\n"
      ],
      "metadata": {
        "id": "BtZW8Gj_xttG"
      },
      "execution_count": 227,
      "outputs": []
    },
    {
      "source": [
        "import torch\n",
        "import torch.nn as nn\n",
        "import torch.nn.functional as F\n",
        "\n",
        "class ModelClassifier(nn.Module):\n",
        "    def __init__(self):\n",
        "        super(ModelClassifier, self).__init__()\n",
        "        self.conv1 = nn.Sequential(\n",
        "                      nn.Conv2d(3, 16, kernel_size=3, padding=1),\n",
        "                      nn.BatchNorm2d(16),\n",
        "                      nn.ReLU(),\n",
        "                      nn.MaxPool2d(2,2) #64\n",
        "        )\n",
        "        self.conv2 = nn.Sequential(nn.Conv2d(16, 32, kernel_size=3, padding=1),\n",
        "                      nn.BatchNorm2d(32),\n",
        "                      nn.ReLU(),\n",
        "                      nn.MaxPool2d(2,2) #32\n",
        "        # self.conv2_drop = nn.Dropout2d()\n",
        "        )\n",
        "        self.conv3 = nn.Sequential(nn.Conv2d(32,64,kernel_size=3, padding=1),\n",
        "                      nn.BatchNorm2d(64),\n",
        "                      nn.ReLU(),\n",
        "                      nn.MaxPool2d(2,2) #16\n",
        "        )\n",
        "        # self.conv3_drop = nn.Dropout2d()\n",
        "        self.conv4 = nn.Sequential(nn.Conv2d(64,128,kernel_size=3, padding=1),\n",
        "                     nn.BatchNorm2d(128),\n",
        "                     nn.ReLU(),\n",
        "                     nn.MaxPool2d(2,2) #8\n",
        "        )\n",
        "        self.drop = nn.Dropout(0.5)\n",
        "        # Calculate the flattened size dynamically\n",
        "        # Create a dummy tensor with the expected input dimensions (batch_size=1, channels=1, height=28, width=28)\n",
        "        # The size needs to match the input image size after transformations (28x28 grayscale in your case)\n",
        "        dummy_input = torch.randn(16, 3, 128, 128)\n",
        "\n",
        "        # self.eval()\n",
        "        # # Pass the dummy input through the convolutional and pooling layers\n",
        "        # # Ensure the operations match the forward pass up to the point of flattening\n",
        "        # x = F.relu(self.bn1(F.max_pool2d(self.conv1(dummy_input), 2)))\n",
        "        # x = F.relu(self.bn2(F.max_pool2d(self.conv2(x), 2)))\n",
        "        # x = F.relu(self.bn3(self.conv3(x)))\n",
        "        # x = F.relu(self.bn4(self.conv4(x)))\n",
        "        # self.train()\n",
        "        x = self.conv1(dummy_input)\n",
        "        x = self.conv2(x)\n",
        "        # # Note: conv2_drop is not applied when calculating the size\n",
        "        # x = F.relu(self.bn2(F.max_pool2d(x, 2)))\n",
        "        x = self.conv3(x)\n",
        "        x = self.conv4(x)\n",
        "        # Calculate the number of features before flattening\n",
        "        self._to_linear = x.numel() // x.shape[0] # Divide by batch size\n",
        "\n",
        "        self.dense = nn.Linear(self._to_linear, 300)\n",
        "        self.out = nn.Linear(300, 4)\n",
        "\n",
        "    def forward(self, x):\n",
        "      # Layer 1\n",
        "        # x = F.relu(self.bn1(F.max_pool2d(self.conv1(x), 2)))\n",
        "        # # Layer 2\n",
        "        # x = self.conv2(x)\n",
        "        # x = self.conv2_drop(x)\n",
        "        # x = F.relu(self.bn2(F.max_pool2d(x, 2)))\n",
        "        # # Layer 3\n",
        "        # x = self.conv3(x)\n",
        "        # x = self.conv3_drop(x)\n",
        "        # x = F.relu(self.bn3(x))\n",
        "        # # Layer 4\n",
        "        # x = self.conv4(x)\n",
        "        # x = self.conv4_drop(x)\n",
        "        # x = F.relu(self.bn4(x))\n",
        "        x = self.conv1(x)\n",
        "        x = self.conv2(x)\n",
        "        # x = self.drop(x)\n",
        "        x = self.conv3(x)\n",
        "        x = self.conv4(x)\n",
        "        # x = x.view(-1, self._to_linear)\n",
        "        x = x.view(x.size(0), -1)\n",
        "        x = self.drop(x)\n",
        "        # Layer 5\n",
        "        x = F.relu(self.dense(x))\n",
        "        x = self.out(x)\n",
        "\n",
        "        return x"
      ],
      "cell_type": "code",
      "metadata": {
        "id": "QeS_O3V56hrI"
      },
      "execution_count": 228,
      "outputs": []
    },
    {
      "cell_type": "code",
      "source": [
        "# class ModelClassifier(nn.Module):\n",
        "#   def __init__(self):\n",
        "#     super(ModelClassifier,self).__init__()\n",
        "#     self.conv1 = nn.Conv2d(1,32,kernel_size=5)\n",
        "#     self.bn1 = nn.BatchNorm2d(32)\n",
        "#     self.conv2 = nn.Conv2d(32,64,kernel_size=5)\n",
        "#     self.bn2 = nn.BatchNorm2d(64)\n",
        "#     self.conv2_drop = nn.Dropout2d()\n",
        "#     self.dense = nn.Linear(320,100)\n",
        "#     self.out = nn.Linear(100,2)\n",
        "\n",
        "#             # Calculate the flattened size dynamically\n",
        "#         # Create a dummy tensor with the expected input dimensions (batch_size=1, channels=1, height=28, width=28)\n",
        "#         # The size needs to match the input image size after transformations (28x28 grayscale in your case)\n",
        "#     dummy_input = torch.randn(1, 1, 28, 28)\n",
        "#         # Pass the dummy input through the convolutional and pooling layers\n",
        "#     x = F.relu(self.bn1(F.max_pool2d(self.conv1(dummy_input), 2)))\n",
        "#     x = self.conv2(x)\n",
        "#     x = F.relu(self.bn2(F.max_pool2d(x, 2)))\n",
        "#         # Calculate the number of features before flattening\n",
        "#     self._to_linear = x.numel() // x.shape[0] # Divide by batch size\n",
        "\n",
        "#     self.dense = nn.Linear(self._to_linear, 100)\n",
        "#     self.out = nn.Linear(100, 2)\n",
        "\n",
        "#   def forward(self,x):\n",
        "#     x = F.relu(self.bn1(F.max_pool2d(self.conv1(x),2)))\n",
        "#     x = self.conv2(x)\n",
        "#     x = self.conv2_drop(x)\n",
        "#     x = F.relu(self.bn2(F.max_pool2d(x,2)))\n",
        "#     x = x.view(-1,self._to_linear)\n",
        "#     x = F.relu(self.dense(x))\n",
        "#     x = self.out(x)\n",
        "\n",
        "#     return x"
      ],
      "metadata": {
        "id": "2fmHR8FhyS5n"
      },
      "execution_count": 229,
      "outputs": []
    },
    {
      "cell_type": "code",
      "source": [],
      "metadata": {
        "id": "z078uguQ2L-I"
      },
      "execution_count": 229,
      "outputs": []
    },
    {
      "cell_type": "code",
      "source": [
        "import torchvision\n",
        "from torchvision import datasets, transforms\n",
        "from torch.utils.data import DataLoader, random_split\n",
        "\n",
        "# transform = transforms.Compose([\n",
        "#     transforms.Grayscale(),  # if not already grayscale\n",
        "#     transforms.Resize((32, 32)),  # resize if needed\n",
        "# ])\n",
        "\n",
        "transform = transforms.Compose([\n",
        "    # transforms.Grayscale(),  # if not already grayscale\n",
        "    transforms.Resize((128, 128)),  # resize if needed\n",
        "    # transforms.RandomResizedCrop(size=128,scale=(0.8,1.0)),\n",
        "    transforms.RandomHorizontalFlip(0.5),\n",
        "    # transforms.ColorJitter(brightness=0.5,contrast=0.2,saturation=0.1,hue=0.2),\n",
        "    transforms.RandomVerticalFlip(0.5),\n",
        "    # transforms.ColorJitter(brightness=0.5,contrast=0.2,saturation=0.1,hue=0.2),\n",
        "    transforms.ToTensor(),\n",
        "    transforms.Normalize((0.5,), (0.5,))\n",
        "])\n",
        "\n",
        "\n",
        "# # Load dataset\n",
        "\n",
        "dataset = datasets.ImageFolder('/content/Multiclass/Multi-Class(Pens,Mechanical,Wooden)',\n",
        "                               transform=transform)\n",
        "\n",
        "train_set = datasets.ImageFolder(\n",
        "    '/content/Multiclass/Multi-Class(Pens,Mechanical,Wooden)/Train',  # Adjust path to your images folder\n",
        "    transform=transform\n",
        ")\n",
        "validatation_set = datasets.ImageFolder(\n",
        "    '/content/Multiclass/Multi-Class(Pens,Mechanical,Wooden)/Validation',  # Adjust path to your images folder\n",
        "    transform=transform\n",
        ")\n",
        "test_set = datasets.ImageFolder(\n",
        "    '/content/Multiclass/Multi-Class(Pens,Mechanical,Wooden)/Test',  # Adjust path to your images folder\n",
        "    transform=transform\n",
        ")\n",
        "# # # Split into train/test sets\n",
        "# train_size = int(0.8 * len(dataset))\n",
        "# test_size = len(dataset) - train_size\n",
        "# train_set, test_set = random_split(dataset, [train_size, test_size])\n",
        "\n",
        "# # Create DataLoaders\n",
        "train_loader = DataLoader(train_set, batch_size=32, shuffle=True)\n",
        "validatation_loader = DataLoader(validatation_set, batch_size=32, shuffle=True)\n",
        "test_loader = DataLoader(test_set, batch_size=32, shuffle=False)\n",
        "loaders = {'train':train_loader,\n",
        "          'validation': validatation_loader,\n",
        "          'test': test_loader\n",
        "}\n",
        "\n",
        "\n",
        "\n",
        "# # Load dataset\n",
        "\n",
        "dataset = datasets.ImageFolder('/content/Multiclass/Multi-Class(Pens,Mechanical,Wooden)',\n",
        "                               transform=transform)\n",
        "\n",
        "train_set = datasets.ImageFolder(\n",
        "    '/content/Multiclass/Multi-Class(Pens,Mechanical,Wooden)/Train',  # Adjust path to your images folder\n",
        "    transform=transform\n",
        ")\n",
        "validatation_set = datasets.ImageFolder(\n",
        "    '/content/Multiclass/Multi-Class(Pens,Mechanical,Wooden)/Validation',  # Adjust path to your images folder\n",
        "    transform=transform\n",
        ")\n",
        "test_set = datasets.ImageFolder(\n",
        "    '/content/Multiclass/Multi-Class(Pens,Mechanical,Wooden)/Test',  # Adjust path to your images folder\n",
        "    transform=transform\n",
        ")\n",
        "# # # Split into train/test sets\n",
        "# train_size = int(0.8 * len(dataset))\n",
        "# test_size = len(dataset) - train_size\n",
        "# train_set, test_set = random_split(dataset, [train_size, test_size])\n",
        "\n",
        "# # Create DataLoaders\n",
        "train_loader = DataLoader(train_set, batch_size=32, shuffle=True)\n",
        "validatation_loader = DataLoader(validatation_set, batch_size=32, shuffle=True)\n",
        "test_loader = DataLoader(test_set, batch_size=32, shuffle=False)\n",
        "loaders = {'train':train_loader,\n",
        "          'validation': validatation_loader,\n",
        "          'test': test_loader\n",
        "}\n",
        "class_name = train_set.classes"
      ],
      "metadata": {
        "id": "Wbq4tkpP9VXJ"
      },
      "execution_count": 230,
      "outputs": []
    },
    {
      "cell_type": "code",
      "source": [
        "device = ''\n",
        "if (torch.cuda.is_available()):\n",
        "  device = 'cuda'\n",
        "else:\n",
        "  device = 'cpu'\n",
        "\n",
        "model = ModelClassifier().to(device)\n",
        "optimizer = torch.optim.Adam(model.parameters(), lr = 0.0001,weight_decay=0.00001)\n",
        "\n",
        "scheduler = torch.optim.lr_scheduler.ReduceLROnPlateau(optimizer, 'min', patience=3, factor=0.5)\n",
        "# optimizer = nn.optim.Adam(model_parameters(), lr = 0.001)\n",
        "\n",
        "\n",
        "loss_fn = nn.CrossEntropyLoss()\n",
        "\n",
        "def validate(model,val_loader,loss_fn):\n",
        "    model.eval()\n",
        "    val_loss = 0\n",
        "    correct = 0\n",
        "    total = 0\n",
        "\n",
        "    with torch.no_grad():\n",
        "        for data, target in val_loader:\n",
        "            data, target = data.to(device), target.to(device)\n",
        "            output = model(data)\n",
        "            val_loss += loss_fn(output, target).item()\n",
        "            pred = output.argmax(dim=1, keepdim=True)\n",
        "            correct += pred.eq(target.view_as(pred)).sum().item()\n",
        "            total += target.size(0)\n",
        "\n",
        "    val_loss /= len(val_loader)\n",
        "    accuracy = 100. * correct / total\n",
        "\n",
        "    return val_loss, accuracy\n",
        "\n",
        "def train(model,epochs,patience=5):\n",
        "    best_val_loss = float('inf')\n",
        "    best_model_weights = None\n",
        "    epochs_no_improve = 0\n",
        "\n",
        "    for epoch in range(1, epochs + 1):\n",
        "        # Training phase\n",
        "        model.train()\n",
        "        train_loss = 0\n",
        "        correct = 0\n",
        "        total = 0\n",
        "\n",
        "        for batch_idx, (data, target) in enumerate(loaders['train']):\n",
        "            data, target = data.to(device), target.to(device)\n",
        "            optimizer.zero_grad()\n",
        "            output = model(data)\n",
        "            loss = loss_fn(output, target)\n",
        "            loss.backward()\n",
        "            optimizer.step()\n",
        "\n",
        "            train_loss += loss.item()\n",
        "            pred = output.argmax(dim=1, keepdim=True)\n",
        "            correct += pred.eq(target.view_as(pred)).sum().item()\n",
        "            total += target.size(0)\n",
        "\n",
        "            if batch_idx % 10 == 0:\n",
        "                print(f'Epoch: {epoch} [{batch_idx * len(data)}/{len(loaders[\"train\"].dataset)} '\n",
        "                      f'({100. * batch_idx / len(loaders[\"train\"]):.0f}%)]\\tLoss: {loss.item():.6f}')\n",
        "\n",
        "        # Validation phase\n",
        "        val_loss, val_acc = validate(model, loaders['validation'], loss_fn)\n",
        "        train_loss /= len(loaders['train'])\n",
        "        train_acc = 100. * correct / total\n",
        "\n",
        "        print(f'\\nEpoch {epoch}:')\n",
        "        print(f'Train Loss: {train_loss:.4f} | Accuracy: {train_acc:.2f}%')\n",
        "        print(f'Val Loss: {val_loss:.4f} | Accuracy: {val_acc:.2f}%')\n",
        "\n",
        "        # Learning rate scheduling\n",
        "        scheduler.step(val_loss)\n",
        "\n",
        "        # Early stopping check\n",
        "        if val_loss < best_val_loss:\n",
        "            best_val_loss = val_loss\n",
        "            best_model_weights = model.state_dict()\n",
        "            epochs_no_improve = 0\n",
        "            torch.save(model.state_dict(), 'best_model.pth')\n",
        "            print(f'Validation loss improved. Model saved.')\n",
        "        else:\n",
        "            epochs_no_improve += 1\n",
        "            print(f'No improvement in validation loss for {epochs_no_improve} epochs')\n",
        "            if epochs_no_improve >= patience:\n",
        "                print(f'Early stopping after {epoch} epochs')\n",
        "                break\n",
        "\n",
        "    # Load best model weights\n",
        "    model.load_state_dict(best_model_weights)\n",
        "    return model\n"
      ],
      "metadata": {
        "id": "NThYhl2P0oOA"
      },
      "execution_count": 231,
      "outputs": []
    },
    {
      "cell_type": "code",
      "source": [
        "# Test\n",
        "\n",
        "def test_model(model, test_loader, print_samples=5):\n",
        "    model.eval()\n",
        "    class_names = test_loader.dataset.classes\n",
        "    num_classes = len(class_names)\n",
        "\n",
        "    # Initialize counters\n",
        "    class_correct = [0] * num_classes\n",
        "    class_total = [0] * num_classes\n",
        "    samples_shown = 0\n",
        "\n",
        "    print(\"\\nTesting model...\")\n",
        "    print(\"-\" * 50)\n",
        "\n",
        "    with torch.no_grad():\n",
        "        for images, labels in test_loader:\n",
        "            images, labels = images.to(device), labels.to(device)\n",
        "            outputs = model(images)\n",
        "            _, predicted = torch.max(outputs, 1)\n",
        "\n",
        "            # Update statistics\n",
        "            for label, prediction in zip(labels, predicted):\n",
        "                class_total[label] += 1\n",
        "                if label == prediction:\n",
        "                    class_correct[label] += 1\n",
        "\n",
        "            # Print balanced samples\n",
        "            if samples_shown < print_samples:\n",
        "                for i in range(len(images)):\n",
        "                    if samples_shown >= print_samples:\n",
        "                        break\n",
        "                    if class_total[labels[i].item()] <= print_samples//num_classes:\n",
        "                        pred_name = class_names[predicted[i].item()]\n",
        "                        true_name = class_names[labels[i].item()]\n",
        "                        correct_str = \"✓\" if predicted[i] == labels[i] else \"✗\"\n",
        "                        print(f\"  {correct_str} Pred: {pred_name:<15} (True: {true_name})\")\n",
        "                        samples_shown += 1\n",
        "\n",
        "    # Calculate overall and per-class accuracy\n",
        "    total_correct = sum(class_correct)\n",
        "    total = sum(class_total)\n",
        "    overall_accuracy = 100 * total_correct / total\n",
        "\n",
        "    print(\"\\nClass-wise Performance:\")\n",
        "    print(\"-\" * 50)\n",
        "    for i in range(num_classes):\n",
        "        accuracy = 100 * class_correct[i] / class_total[i] if class_total[i] > 0 else 0\n",
        "        print(f\"{class_names[i]:<15}: {accuracy:.2f}% ({class_correct[i]}/{class_total[i]})\")\n",
        "\n",
        "    print(\"-\" * 50)\n",
        "    print(f\"\\nOverall Accuracy: {overall_accuracy:.2f}% ({total_correct}/{total})\")\n",
        "    print(\"-\" * 50)\n",
        "\n",
        "    return overall_accuracy"
      ],
      "metadata": {
        "id": "rft0Ec1i7Ep8"
      },
      "execution_count": 232,
      "outputs": []
    },
    {
      "cell_type": "code",
      "source": [
        "def create_confusion_matrix_manual(model, test_loader, num_classes, device):\n",
        "    model.eval()\n",
        "    confusion_matrix = torch.zeros(num_classes, num_classes)\n",
        "\n",
        "    with torch.no_grad():\n",
        "        for data, labels in test_loader:\n",
        "            data = data.to(device)\n",
        "            labels = labels.to(device)\n",
        "\n",
        "            outputs = model(data)\n",
        "            _, preds = torch.max(outputs, 1)\n",
        "\n",
        "            for t, p in zip(labels.view(-1), preds.view(-1)):\n",
        "                confusion_matrix[t.long(), p.long()] += 1\n",
        "\n",
        "    # Normalize the confusion matrix\n",
        "    cm_normalized = confusion_matrix / confusion_matrix.sum(1).view(-1, 1)\n",
        "\n",
        "    # Plotting\n",
        "    plt.figure(figsize=(10, 8))\n",
        "    plt.imshow(cm_normalized.numpy(), interpolation='nearest', cmap=plt.cm.Blues)\n",
        "    plt.colorbar()\n",
        "    plt.xlabel('Predicted label')\n",
        "    plt.ylabel('True label')\n",
        "    plt.xticks(torch.arange(num_classes))\n",
        "    plt.yticks(torch.arange(num_classes))\n",
        "\n",
        "    # Add text annotations\n",
        "    thresh = cm_normalized.max() / 2.\n",
        "    for i in range(num_classes):\n",
        "        for j in range(num_classes):\n",
        "            plt.text(j, i, f\"{confusion_matrix[i, j]:.0f}\\n({cm_normalized[i, j]*100:.1f}%)\",\n",
        "                    horizontalalignment=\"center\",\n",
        "                    color=\"white\" if cm_normalized[i, j] > thresh else \"black\")\n",
        "\n",
        "    plt.show()\n",
        "\n",
        "    return confusion_matrix"
      ],
      "metadata": {
        "id": "vUsb__ppDUpa"
      },
      "execution_count": 233,
      "outputs": []
    },
    {
      "cell_type": "code",
      "source": [
        "train(model,20)"
      ],
      "metadata": {
        "colab": {
          "base_uri": "https://localhost:8080/"
        },
        "id": "GDayv8TQ338s",
        "outputId": "f3c46a94-0aad-4cf0-df01-c8b5534d2563"
      },
      "execution_count": 234,
      "outputs": [
        {
          "output_type": "stream",
          "name": "stdout",
          "text": [
            "Epoch: 1 [0/404 (0%)]\tLoss: 1.452231\n",
            "Epoch: 1 [320/404 (77%)]\tLoss: 1.372792\n",
            "\n",
            "Epoch 1:\n",
            "Train Loss: 1.4997 | Accuracy: 24.50%\n",
            "Val Loss: 1.3897 | Accuracy: 26.14%\n",
            "Validation loss improved. Model saved.\n",
            "Epoch: 2 [0/404 (0%)]\tLoss: 1.513132\n",
            "Epoch: 2 [320/404 (77%)]\tLoss: 1.180051\n",
            "\n",
            "Epoch 2:\n",
            "Train Loss: 1.3222 | Accuracy: 34.41%\n",
            "Val Loss: 1.4258 | Accuracy: 26.14%\n",
            "No improvement in validation loss for 1 epochs\n",
            "Epoch: 3 [0/404 (0%)]\tLoss: 1.278960\n",
            "Epoch: 3 [320/404 (77%)]\tLoss: 1.273756\n",
            "\n",
            "Epoch 3:\n",
            "Train Loss: 1.2294 | Accuracy: 43.07%\n",
            "Val Loss: 1.3497 | Accuracy: 39.77%\n",
            "Validation loss improved. Model saved.\n",
            "Epoch: 4 [0/404 (0%)]\tLoss: 1.219014\n",
            "Epoch: 4 [320/404 (77%)]\tLoss: 1.101748\n",
            "\n",
            "Epoch 4:\n",
            "Train Loss: 1.1423 | Accuracy: 51.98%\n",
            "Val Loss: 1.3939 | Accuracy: 36.36%\n",
            "No improvement in validation loss for 1 epochs\n",
            "Epoch: 5 [0/404 (0%)]\tLoss: 1.136397\n",
            "Epoch: 5 [320/404 (77%)]\tLoss: 1.170489\n",
            "\n",
            "Epoch 5:\n",
            "Train Loss: 1.0538 | Accuracy: 52.48%\n",
            "Val Loss: 1.4100 | Accuracy: 52.27%\n",
            "No improvement in validation loss for 2 epochs\n",
            "Epoch: 6 [0/404 (0%)]\tLoss: 0.944288\n",
            "Epoch: 6 [320/404 (77%)]\tLoss: 0.843835\n",
            "\n",
            "Epoch 6:\n",
            "Train Loss: 0.9617 | Accuracy: 61.63%\n",
            "Val Loss: 1.5164 | Accuracy: 36.36%\n",
            "No improvement in validation loss for 3 epochs\n",
            "Epoch: 7 [0/404 (0%)]\tLoss: 0.884852\n",
            "Epoch: 7 [320/404 (77%)]\tLoss: 0.739038\n",
            "\n",
            "Epoch 7:\n",
            "Train Loss: 0.9306 | Accuracy: 58.91%\n",
            "Val Loss: 1.4885 | Accuracy: 39.77%\n",
            "No improvement in validation loss for 4 epochs\n",
            "Epoch: 8 [0/404 (0%)]\tLoss: 1.005580\n",
            "Epoch: 8 [320/404 (77%)]\tLoss: 0.650445\n",
            "\n",
            "Epoch 8:\n",
            "Train Loss: 0.8231 | Accuracy: 70.54%\n",
            "Val Loss: 1.4152 | Accuracy: 62.50%\n",
            "No improvement in validation loss for 5 epochs\n",
            "Early stopping after 8 epochs\n"
          ]
        },
        {
          "output_type": "execute_result",
          "data": {
            "text/plain": [
              "ModelClassifier(\n",
              "  (conv1): Sequential(\n",
              "    (0): Conv2d(3, 16, kernel_size=(3, 3), stride=(1, 1), padding=(1, 1))\n",
              "    (1): BatchNorm2d(16, eps=1e-05, momentum=0.1, affine=True, track_running_stats=True)\n",
              "    (2): ReLU()\n",
              "    (3): MaxPool2d(kernel_size=2, stride=2, padding=0, dilation=1, ceil_mode=False)\n",
              "  )\n",
              "  (conv2): Sequential(\n",
              "    (0): Conv2d(16, 32, kernel_size=(3, 3), stride=(1, 1), padding=(1, 1))\n",
              "    (1): BatchNorm2d(32, eps=1e-05, momentum=0.1, affine=True, track_running_stats=True)\n",
              "    (2): ReLU()\n",
              "    (3): MaxPool2d(kernel_size=2, stride=2, padding=0, dilation=1, ceil_mode=False)\n",
              "  )\n",
              "  (conv3): Sequential(\n",
              "    (0): Conv2d(32, 64, kernel_size=(3, 3), stride=(1, 1), padding=(1, 1))\n",
              "    (1): BatchNorm2d(64, eps=1e-05, momentum=0.1, affine=True, track_running_stats=True)\n",
              "    (2): ReLU()\n",
              "    (3): MaxPool2d(kernel_size=2, stride=2, padding=0, dilation=1, ceil_mode=False)\n",
              "  )\n",
              "  (conv4): Sequential(\n",
              "    (0): Conv2d(64, 128, kernel_size=(3, 3), stride=(1, 1), padding=(1, 1))\n",
              "    (1): BatchNorm2d(128, eps=1e-05, momentum=0.1, affine=True, track_running_stats=True)\n",
              "    (2): ReLU()\n",
              "    (3): MaxPool2d(kernel_size=2, stride=2, padding=0, dilation=1, ceil_mode=False)\n",
              "  )\n",
              "  (drop): Dropout(p=0.5, inplace=False)\n",
              "  (dense): Linear(in_features=8192, out_features=300, bias=True)\n",
              "  (out): Linear(in_features=300, out_features=4, bias=True)\n",
              ")"
            ]
          },
          "metadata": {},
          "execution_count": 234
        }
      ]
    },
    {
      "source": [
        "from PIL import Image\n",
        "import torch\n",
        "import torch.nn.functional as F\n",
        "import torchvision\n",
        "\n",
        "def predict_custom_image(model, image_path, class_names):\n",
        "    \"\"\"\n",
        "    Predict image class with automatic device detection (CUDA if available, otherwise CPU)\n",
        "\n",
        "    Args:\n",
        "        model: Trained PyTorch model\n",
        "        image_path: Path to image file\n",
        "        class_names: List of class names (order must match training)\n",
        "\n",
        "    Returns:\n",
        "        tuple: (predicted_class, confidence, all_probs)\n",
        "    \"\"\"\n",
        "    # Set device automatically\n",
        "    device = torch.device('cuda' if torch.cuda.is_available() else 'cpu')\n",
        "    print(f\"Using device: {device}\")\n",
        "\n",
        "    # Model setup\n",
        "    model = model.to(device)\n",
        "    model.eval()\n",
        "\n",
        "    # Preprocessing - MUST MATCH TRAINING PREPROCESSING\n",
        "    # Use the same transformations as used for training data loaders\n",
        "    transform = transforms.Compose([\n",
        "      # transforms.Grayscale(),  # if not already grayscale\n",
        "      transforms.Resize((128, 128)),  # resize if needed\n",
        "      # transforms.RandomResizedCrop(size=128,scale=(0.8,1.0)),\n",
        "      transforms.RandomHorizontalFlip(0.5),\n",
        "      # transforms.ColorJitter(brightness=0.5,contrast=0.2,saturation=0.1,hue=0.2),\n",
        "      transforms.RandomVerticalFlip(0.5),\n",
        "      # transforms.ColorJitter(brightness=0.5,contrast=0.2,saturation=0.1,hue=0.2),\n",
        "      transforms.ToTensor(),\n",
        "      transforms.Normalize((0.5,), (0.5,))\n",
        "])\n",
        "\n",
        "    try:\n",
        "        # Load and preprocess image\n",
        "        # Remove .convert('RGB') to allow transforms.Grayscale() to work correctly\n",
        "        img = Image.open(image_path)\n",
        "        img_tensor = transform(img).unsqueeze(0).to(device)  # Add batch dimension\n",
        "\n",
        "        # Prediction\n",
        "        with torch.no_grad():\n",
        "            output = model(img_tensor)\n",
        "            # Apply softmax to get probabilities\n",
        "            probs = torch.nn.functional.softmax(output[0], dim=0)\n",
        "            conf, pred_idx = torch.max(probs, 0)\n",
        "\n",
        "        # Prepare results\n",
        "        all_probs = {class_names[i]: f\"{probs[i].item()*100:.1f}%\"\n",
        "                    for i in range(len(class_names))}\n",
        "\n",
        "        return class_names[pred_idx], conf.item(), all_probs\n",
        "\n",
        "    except Exception as e:\n",
        "        # Re-raise the exception with a more informative message\n",
        "        raise RuntimeError(f\"Prediction failed: {str(e)}\")\n",
        "\n",
        "\n",
        "# Example usage\n",
        "# Make sure 'dataset' is the ImageFolder instance you want to use for getting class names\n",
        "# In your setup, 'dataset' is created directly under Custom_DataSet, while test_set is\n",
        "# created under Custom_DataSet/Test. For prediction on individual images, it's often\n",
        "# convenient to use a dataset object that reflects the classes you trained on.\n",
        "# Using 'train_set' or 'test_set' here would also work as they share the same class structure\n",
        "# derived from the subfolders. Let's use train_set as it's generally available.\n",
        "# However, the original code uses 'dataset' from the root, which should also work\n",
        "# if the root contains subfolders corresponding to the classes. Let's stick to 'dataset'\n",
        "# as per the original error context.\n",
        "\n",
        "# Ensure the device variable is defined (it is in your global variables)\n",
        "# device = 'cuda' if torch.cuda.is_available() else 'cpu' # This is defined earlier in your notebook\n",
        "\n",
        "# Ensure the dataset object is available and correctly instantiated ImageFolder\n",
        "# dataset = datasets.ImageFolder('/content/Pens_Pencils/Custom_DataSet', transform=transform) # This is defined earlier\n"
      ],
      "cell_type": "code",
      "metadata": {
        "id": "NQp-9N7V-VHw"
      },
      "execution_count": 235,
      "outputs": []
    },
    {
      "cell_type": "code",
      "source": [
        "import torch\n",
        "import torch.nn as nn\n",
        "from torchvision import transforms\n",
        "from PIL import Image\n",
        "\n",
        "# Define a dictionary to store layer outputs\n",
        "layer_outputs = {}\n",
        "\n",
        "def get_layer_output(name):\n",
        "    \"\"\"Hook function to store layer output\"\"\"\n",
        "    def hook(model, input, output):\n",
        "        layer_outputs[name] = output.detach()\n",
        "    return hook\n",
        "\n",
        "def predict_with_debug(model, image_path, class_names):\n",
        "    device = torch.device('cuda' if torch.cuda.is_available() else 'cpu')\n",
        "    model = model.to(device)\n",
        "    model.eval()\n",
        "\n",
        "    # Register hooks for all layers\n",
        "    hooks = []\n",
        "    for name, layer in model.named_children():\n",
        "        hook = layer.register_forward_hook(get_layer_output(name))\n",
        "        hooks.append(hook)\n",
        "\n",
        "    # Preprocess image\n",
        "    transform = transforms.Compose([\n",
        "      # transforms.Grayscale(),  # if not already grayscale\n",
        "      transforms.Resize((128, 128)),  # resize if needed\n",
        "      # transforms.RandomResizedCrop(size=128,scale=(0.8,1.0)),\n",
        "      transforms.RandomHorizontalFlip(0.5),\n",
        "      # transforms.ColorJitter(brightness=0.5,contrast=0.2,saturation=0.1,hue=0.2),\n",
        "      transforms.RandomVerticalFlip(0.5),\n",
        "      # transforms.ColorJitter(brightness=0.5,contrast=0.2,saturation=0.1,hue=0.2),\n",
        "      transforms.ToTensor(),\n",
        "      transforms.Normalize((0.5,), (0.5,))\n",
        "])\n",
        "\n",
        "    img = Image.open(image_path)\n",
        "    img_tensor = transform(img).unsqueeze(0).to(device)\n",
        "\n",
        "    # Forward pass (captures all layer outputs in `layer_outputs`)\n",
        "    with torch.no_grad():\n",
        "        output = model(img_tensor)\n",
        "        probs = torch.nn.functional.softmax(output[0], dim=0)\n",
        "        conf, pred_idx = torch.max(probs, 0)\n",
        "\n",
        "    # Remove hooks\n",
        "    for hook in hooks:\n",
        "        hook.remove()\n",
        "\n",
        "    # Print layer outputs (for debugging)\n",
        "    for name, output in layer_outputs.items():\n",
        "        print(f\"Layer: {name}\")\n",
        "        print(f\"Shape: {output.shape}\")\n",
        "        print(f\"Min: {output.min().item()}, Max: {output.max().item()}\")\n",
        "        print(\"-\" * 50)\n",
        "\n",
        "    # Return prediction results\n",
        "    all_probs = {class_names[i]: f\"{probs[i].item()*100:.1f}%\"\n",
        "                for i in range(len(class_names))}\n",
        "    return class_names[pred_idx], conf.item(), all_probs"
      ],
      "metadata": {
        "id": "XUsZPPM76kSP"
      },
      "execution_count": 236,
      "outputs": []
    },
    {
      "cell_type": "code",
      "source": [
        "test_model(model,test_loader)"
      ],
      "metadata": {
        "colab": {
          "base_uri": "https://localhost:8080/"
        },
        "id": "KqpisB9O7MEk",
        "outputId": "b8e8a3fe-de0d-495a-9079-c41b6ae4d0de"
      },
      "execution_count": 237,
      "outputs": [
        {
          "output_type": "stream",
          "name": "stdout",
          "text": [
            "\n",
            "Testing model...\n",
            "--------------------------------------------------\n",
            "\n",
            "Class-wise Performance:\n",
            "--------------------------------------------------\n",
            "Crayon         : 60.87% (14/23)\n",
            "Marker         : 78.26% (18/23)\n",
            "Pen            : 52.38% (11/21)\n",
            "Wooden_Pencil  : 90.48% (19/21)\n",
            "--------------------------------------------------\n",
            "\n",
            "Overall Accuracy: 70.45% (62/88)\n",
            "--------------------------------------------------\n"
          ]
        },
        {
          "output_type": "execute_result",
          "data": {
            "text/plain": [
              "70.45454545454545"
            ]
          },
          "metadata": {},
          "execution_count": 237
        }
      ]
    },
    {
      "cell_type": "code",
      "source": [
        "create_confusion_matrix_manual(model,test_loader=test_loader,num_classes=4,device=device)"
      ],
      "metadata": {
        "colab": {
          "base_uri": "https://localhost:8080/",
          "height": 639
        },
        "id": "5B2bOp-oDXSO",
        "outputId": "10086f24-540f-4231-ecaa-42b744267445"
      },
      "execution_count": 238,
      "outputs": [
        {
          "output_type": "display_data",
          "data": {
            "text/plain": [
              "<Figure size 1000x800 with 2 Axes>"
            ],
            "image/png": "[encoded data removed]"
          },
          "metadata": {}
        },
        {
          "output_type": "execute_result",
          "data": {
            "text/plain": [
              "tensor([[14.,  7.,  1.,  1.],\n",
              "        [ 5., 15.,  3.,  0.],\n",
              "        [ 0.,  3., 11.,  7.],\n",
              "        [ 2.,  0.,  2., 17.]])"
            ]
          },
          "metadata": {},
          "execution_count": 238
        }
      ]
    },
    {
      "cell_type": "code",
      "source": [
        "torch.save(model,'Pen_and_Pencil_md.pth')"
      ],
      "metadata": {
        "id": "y8_GHhlPQhzs"
      },
      "execution_count": 239,
      "outputs": []
    },
    {
      "cell_type": "code",
      "source": [
        "# Assume `model` is an instance of a torch.nn.Module\n",
        "torch.save(model.state_dict(), \"Multi_class_md.pth\")\n"
      ],
      "metadata": {
        "id": "hbi3w5cRD1pa"
      },
      "execution_count": 240,
      "outputs": []
    },
    {
      "cell_type": "code",
      "source": [
        "# Example usage\n",
        "example_classes = test_loader.dataset.classes\n",
        "\n",
        "pred_class, confidence, all_probs = predict_custom_image(\n",
        "            model=model,\n",
        "            image_path='/content/pencil_280523090.jpg',\n",
        "            class_names=example_classes\n",
        "        )\n",
        "\n",
        "print(f\"\\nPrediction Results:\")\n",
        "print(f\"Most likely: {pred_class} ({confidence*100:.2f}% confidence)\")\n",
        "print(\"\\nAll class probabilities:\")\n",
        "for cls, prob in all_probs.items():\n",
        "    print(f\"{cls}: {prob}\")\n"
      ],
      "metadata": {
        "colab": {
          "base_uri": "https://localhost:8080/"
        },
        "id": "dJ9m3kM-Xvo4",
        "outputId": "9b1c7d6e-20af-475c-8883-fc332d3587ce"
      },
      "execution_count": 241,
      "outputs": [
        {
          "output_type": "stream",
          "name": "stdout",
          "text": [
            "Using device: cpu\n",
            "\n",
            "Prediction Results:\n",
            "Most likely: Pen (52.63% confidence)\n",
            "\n",
            "All class probabilities:\n",
            "Crayon: 5.2%\n",
            "Marker: 8.1%\n",
            "Pen: 52.6%\n",
            "Wooden_Pencil: 34.1%\n"
          ]
        }
      ]
    },
    {
      "cell_type": "code",
      "source": [
        "# Example usage\n",
        "example_classes = test_loader.dataset.classes\n",
        "\n",
        "pred_class, confidence, all_probs = predict_custom_image(\n",
        "            model=model,\n",
        "            image_path='/content/CrayonTest.jpg',\n",
        "            class_names=example_classes\n",
        "        )\n",
        "\n",
        "print(f\"\\nPrediction Results:\")\n",
        "print(f\"Most likely: {pred_class} ({confidence*100:.2f}% confidence)\")\n",
        "print(\"\\nAll class probabilities:\")\n",
        "for cls, prob in all_probs.items():\n",
        "    print(f\"{cls}: {prob}\")\n"
      ],
      "metadata": {
        "colab": {
          "base_uri": "https://localhost:8080/"
        },
        "outputId": "35c2050e-81a0-4792-a41f-4ff70b88627e",
        "id": "isvdYbDyAm1S"
      },
      "execution_count": 242,
      "outputs": [
        {
          "output_type": "stream",
          "name": "stdout",
          "text": [
            "Using device: cpu\n",
            "\n",
            "Prediction Results:\n",
            "Most likely: Pen (77.88% confidence)\n",
            "\n",
            "All class probabilities:\n",
            "Crayon: 0.3%\n",
            "Marker: 19.8%\n",
            "Pen: 77.9%\n",
            "Wooden_Pencil: 2.0%\n"
          ]
        }
      ]
    },
    {
      "cell_type": "code",
      "source": [
        "# Pen Test\n",
        "example_classes = test_loader.dataset.classes\n",
        "\n",
        "pred_class, confidence, all_probs = predict_custom_image(\n",
        "            model=model,\n",
        "            image_path='/content/51TkKa5QdgL.jpg',\n",
        "            class_names=example_classes\n",
        "        )\n",
        "\n",
        "print(f\"\\nPrediction Results:\")\n",
        "print(f\"Most likely: {pred_class} ({confidence*100:.2f}% confidence)\")\n",
        "print(\"\\nAll class probabilities:\")\n",
        "for cls, prob in all_probs.items():\n",
        "    print(f\"{cls}: {prob}\")\n"
      ],
      "metadata": {
        "colab": {
          "base_uri": "https://localhost:8080/"
        },
        "outputId": "d99aa3b3-54a5-45d6-c8e0-f4e309d3925f",
        "id": "wvFn47OAB6zE"
      },
      "execution_count": 243,
      "outputs": [
        {
          "output_type": "stream",
          "name": "stdout",
          "text": [
            "Using device: cpu\n",
            "\n",
            "Prediction Results:\n",
            "Most likely: Pen (59.37% confidence)\n",
            "\n",
            "All class probabilities:\n",
            "Crayon: 2.9%\n",
            "Marker: 35.9%\n",
            "Pen: 59.4%\n",
            "Wooden_Pencil: 1.9%\n"
          ]
        }
      ]
    },
    {
      "cell_type": "code",
      "source": [],
      "metadata": {
        "id": "kkgN_jXR8USJ"
      },
      "execution_count": 243,
      "outputs": []
    },
    {
      "cell_type": "code",
      "source": [
        "# Example usage\n",
        "example_classes = test_loader.dataset.classes\n",
        "\n",
        "pred_class, confidence, all_probs = predict_custom_image(\n",
        "            model=model,\n",
        "            image_path='/content/markertest2.jpg',\n",
        "            class_names=example_classes\n",
        "        )\n",
        "\n",
        "print(f\"\\nPrediction Results:\")\n",
        "print(f\"Most likely: {pred_class} ({confidence*100:.2f}% confidence)\")\n",
        "print(\"\\nAll class probabilities:\")\n",
        "for cls, prob in all_probs.items():\n",
        "    print(f\"{cls}: {prob}\")\n"
      ],
      "metadata": {
        "colab": {
          "base_uri": "https://localhost:8080/"
        },
        "outputId": "a7aa4c71-d4f2-452a-b4c2-4e7e05b461ff",
        "id": "tZRPJdRgutzF"
      },
      "execution_count": 244,
      "outputs": [
        {
          "output_type": "stream",
          "name": "stdout",
          "text": [
            "Using device: cpu\n",
            "\n",
            "Prediction Results:\n",
            "Most likely: Pen (58.36% confidence)\n",
            "\n",
            "All class probabilities:\n",
            "Crayon: 7.8%\n",
            "Marker: 23.1%\n",
            "Pen: 58.4%\n",
            "Wooden_Pencil: 10.7%\n"
          ]
        }
      ]
    },
    {
      "cell_type": "code",
      "source": [
        "# Example usage\n",
        "example_classes = test_loader.dataset.classes\n",
        "\n",
        "pred_class, confidence, all_probs = predict_custom_image(\n",
        "            model=model,\n",
        "            image_path='/content/tough_crayon.jpg',\n",
        "            class_names=example_classes\n",
        "        )\n",
        "\n",
        "print(f\"\\nPrediction Results:\")\n",
        "print(f\"Most likely: {pred_class} ({confidence*100:.2f}% confidence)\")\n",
        "print(\"\\nAll class probabilities:\")\n",
        "for cls, prob in all_probs.items():\n",
        "    print(f\"{cls}: {prob}\")\n"
      ],
      "metadata": {
        "colab": {
          "base_uri": "https://localhost:8080/"
        },
        "outputId": "8cfd8223-4262-4fd4-fde0-7091c4882254",
        "id": "_fsg3a4t8ll7"
      },
      "execution_count": 245,
      "outputs": [
        {
          "output_type": "stream",
          "name": "stdout",
          "text": [
            "Using device: cpu\n",
            "\n",
            "Prediction Results:\n",
            "Most likely: Pen (89.97% confidence)\n",
            "\n",
            "All class probabilities:\n",
            "Crayon: 2.3%\n",
            "Marker: 3.6%\n",
            "Pen: 90.0%\n",
            "Wooden_Pencil: 4.1%\n"
          ]
        }
      ]
    },
    {
      "cell_type": "code",
      "source": [
        "#1 Example (Both Pen and Pencil) usage\n",
        "example_classes = test_loader.dataset.classes\n",
        "\n",
        "pred_class, confidence, all_probs = predict_custom_image(\n",
        "            model=model,\n",
        "            image_path='/content/bicppp-07-mm.jpg',\n",
        "            class_names=example_classes\n",
        "        )\n",
        "\n",
        "print(f\"\\nPrediction Results:\")\n",
        "print(f\"Most likely: {pred_class} ({confidence*100:.2f}% confidence)\")\n",
        "print(\"\\nAll class probabilities:\")\n",
        "for cls, prob in all_probs.items():\n",
        "    print(f\"{cls}: {prob}\")\n"
      ],
      "metadata": {
        "colab": {
          "base_uri": "https://localhost:8080/",
          "height": 597
        },
        "outputId": "603d8ccb-8df2-44a7-e3ff-63e8748b53c9",
        "id": "Bwor7Gn7v2kK"
      },
      "execution_count": 246,
      "outputs": [
        {
          "output_type": "stream",
          "name": "stdout",
          "text": [
            "Using device: cpu\n"
          ]
        },
        {
          "output_type": "error",
          "ename": "RuntimeError",
          "evalue": "Prediction failed: [Errno 2] No such file or directory: '/content/bicppp-07-mm.jpg'",
          "traceback": [
            "\u001b[0;31m---------------------------------------------------------------------------\u001b[0m",
            "\u001b[0;31mFileNotFoundError\u001b[0m                         Traceback (most recent call last)",
            "\u001b[0;32m<ipython-input-235-ec8a1ce243af>\u001b[0m in \u001b[0;36mpredict_custom_image\u001b[0;34m(model, image_path, class_names)\u001b[0m\n\u001b[1;32m     42\u001b[0m         \u001b[0;31m# Remove .convert('RGB') to allow transforms.Grayscale() to work correctly\u001b[0m\u001b[0;34m\u001b[0m\u001b[0;34m\u001b[0m\u001b[0m\n\u001b[0;32m---> 43\u001b[0;31m         \u001b[0mimg\u001b[0m \u001b[0;34m=\u001b[0m \u001b[0mImage\u001b[0m\u001b[0;34m.\u001b[0m\u001b[0mopen\u001b[0m\u001b[0;34m(\u001b[0m\u001b[0mimage_path\u001b[0m\u001b[0;34m)\u001b[0m\u001b[0;34m\u001b[0m\u001b[0;34m\u001b[0m\u001b[0m\n\u001b[0m\u001b[1;32m     44\u001b[0m         \u001b[0mimg_tensor\u001b[0m \u001b[0;34m=\u001b[0m \u001b[0mtransform\u001b[0m\u001b[0;34m(\u001b[0m\u001b[0mimg\u001b[0m\u001b[0;34m)\u001b[0m\u001b[0;34m.\u001b[0m\u001b[0munsqueeze\u001b[0m\u001b[0;34m(\u001b[0m\u001b[0;36m0\u001b[0m\u001b[0;34m)\u001b[0m\u001b[0;34m.\u001b[0m\u001b[0mto\u001b[0m\u001b[0;34m(\u001b[0m\u001b[0mdevice\u001b[0m\u001b[0;34m)\u001b[0m  \u001b[0;31m# Add batch dimension\u001b[0m\u001b[0;34m\u001b[0m\u001b[0;34m\u001b[0m\u001b[0m\n",
            "\u001b[0;32m/usr/local/lib/python3.11/dist-packages/PIL/Image.py\u001b[0m in \u001b[0;36mopen\u001b[0;34m(fp, mode, formats)\u001b[0m\n\u001b[1;32m   3504\u001b[0m     \u001b[0;32mif\u001b[0m \u001b[0mfilename\u001b[0m\u001b[0;34m:\u001b[0m\u001b[0;34m\u001b[0m\u001b[0;34m\u001b[0m\u001b[0m\n\u001b[0;32m-> 3505\u001b[0;31m         \u001b[0mfp\u001b[0m \u001b[0;34m=\u001b[0m \u001b[0mbuiltins\u001b[0m\u001b[0;34m.\u001b[0m\u001b[0mopen\u001b[0m\u001b[0;34m(\u001b[0m\u001b[0mfilename\u001b[0m\u001b[0;34m,\u001b[0m \u001b[0;34m\"rb\"\u001b[0m\u001b[0;34m)\u001b[0m\u001b[0;34m\u001b[0m\u001b[0;34m\u001b[0m\u001b[0m\n\u001b[0m\u001b[1;32m   3506\u001b[0m         \u001b[0mexclusive_fp\u001b[0m \u001b[0;34m=\u001b[0m \u001b[0;32mTrue\u001b[0m\u001b[0;34m\u001b[0m\u001b[0;34m\u001b[0m\u001b[0m\n",
            "\u001b[0;31mFileNotFoundError\u001b[0m: [Errno 2] No such file or directory: '/content/bicppp-07-mm.jpg'",
            "\nDuring handling of the above exception, another exception occurred:\n",
            "\u001b[0;31mRuntimeError\u001b[0m                              Traceback (most recent call last)",
            "\u001b[0;32m<ipython-input-246-a9b1b05698ef>\u001b[0m in \u001b[0;36m<cell line: 0>\u001b[0;34m()\u001b[0m\n\u001b[1;32m      2\u001b[0m \u001b[0mexample_classes\u001b[0m \u001b[0;34m=\u001b[0m \u001b[0mtest_loader\u001b[0m\u001b[0;34m.\u001b[0m\u001b[0mdataset\u001b[0m\u001b[0;34m.\u001b[0m\u001b[0mclasses\u001b[0m\u001b[0;34m\u001b[0m\u001b[0;34m\u001b[0m\u001b[0m\n\u001b[1;32m      3\u001b[0m \u001b[0;34m\u001b[0m\u001b[0m\n\u001b[0;32m----> 4\u001b[0;31m pred_class, confidence, all_probs = predict_custom_image(\n\u001b[0m\u001b[1;32m      5\u001b[0m             \u001b[0mmodel\u001b[0m\u001b[0;34m=\u001b[0m\u001b[0mmodel\u001b[0m\u001b[0;34m,\u001b[0m\u001b[0;34m\u001b[0m\u001b[0;34m\u001b[0m\u001b[0m\n\u001b[1;32m      6\u001b[0m             \u001b[0mimage_path\u001b[0m\u001b[0;34m=\u001b[0m\u001b[0;34m'/content/bicppp-07-mm.jpg'\u001b[0m\u001b[0;34m,\u001b[0m\u001b[0;34m\u001b[0m\u001b[0;34m\u001b[0m\u001b[0m\n",
            "\u001b[0;32m<ipython-input-235-ec8a1ce243af>\u001b[0m in \u001b[0;36mpredict_custom_image\u001b[0;34m(model, image_path, class_names)\u001b[0m\n\u001b[1;32m     59\u001b[0m     \u001b[0;32mexcept\u001b[0m \u001b[0mException\u001b[0m \u001b[0;32mas\u001b[0m \u001b[0me\u001b[0m\u001b[0;34m:\u001b[0m\u001b[0;34m\u001b[0m\u001b[0;34m\u001b[0m\u001b[0m\n\u001b[1;32m     60\u001b[0m         \u001b[0;31m# Re-raise the exception with a more informative message\u001b[0m\u001b[0;34m\u001b[0m\u001b[0;34m\u001b[0m\u001b[0m\n\u001b[0;32m---> 61\u001b[0;31m         \u001b[0;32mraise\u001b[0m \u001b[0mRuntimeError\u001b[0m\u001b[0;34m(\u001b[0m\u001b[0;34mf\"Prediction failed: {str(e)}\"\u001b[0m\u001b[0;34m)\u001b[0m\u001b[0;34m\u001b[0m\u001b[0;34m\u001b[0m\u001b[0m\n\u001b[0m\u001b[1;32m     62\u001b[0m \u001b[0;34m\u001b[0m\u001b[0m\n\u001b[1;32m     63\u001b[0m \u001b[0;34m\u001b[0m\u001b[0m\n",
            "\u001b[0;31mRuntimeError\u001b[0m: Prediction failed: [Errno 2] No such file or directory: '/content/bicppp-07-mm.jpg'"
          ]
        }
      ]
    },
    {
      "cell_type": "code",
      "source": [
        "#1 Example (Both Pen and Pencil) usage\n",
        "example_classes = test_loader.dataset.classes\n",
        "\n",
        "pred_class, confidence, all_probs = predict_custom_image(\n",
        "            model=model,\n",
        "            image_path='/content/332947.jpg',\n",
        "            class_names=example_classes\n",
        "        )\n",
        "\n",
        "print(f\"\\nPrediction Results:\")\n",
        "print(f\"Most likely: {pred_class} ({confidence*100:.2f}% confidence)\")\n",
        "print(\"\\nAll class probabilities:\")\n",
        "for cls, prob in all_probs.items():\n",
        "    print(f\"{cls}: {prob}\")\n"
      ],
      "metadata": {
        "id": "7-Wd1svNtJQS"
      },
      "execution_count": null,
      "outputs": []
    },
    {
      "cell_type": "code",
      "source": [
        "# Example (Both Pen and Pencil) usage\n",
        "example_classes = test_loader.dataset.classes\n",
        "\n",
        "pred_class, confidence, all_probs = predict_custom_image(\n",
        "            model=model,\n",
        "            image_path='/content/Example_1.jpg',\n",
        "            class_names=example_classes\n",
        "        )\n",
        "\n",
        "print(f\"\\nPrediction Results:\")\n",
        "print(f\"Most likely: {pred_class} ({confidence*100:.2f}% confidence)\")\n",
        "print(\"\\nAll class probabilities:\")\n",
        "for cls, prob in all_probs.items():\n",
        "    print(f\"{cls}: {prob}\")"
      ],
      "metadata": {
        "id": "nUn7wS-7v2UU"
      },
      "execution_count": null,
      "outputs": []
    },
    {
      "cell_type": "code",
      "source": [
        "#2 Example (Both Pen and Pencil) usage\n",
        "example_classes = test_loader.dataset.classes\n",
        "\n",
        "pred_class, confidence, all_probs = predict_custom_image(\n",
        "            model=model,\n",
        "            image_path='/content/Example_2.png',\n",
        "            class_names=example_classes\n",
        "        )\n",
        "\n",
        "print(f\"\\nPrediction Results:\")\n",
        "print(f\"Most likely: {pred_class} ({confidence*100:.2f}% confidence)\")\n",
        "print(\"\\nAll class probabilities:\")\n",
        "for cls, prob in all_probs.items():\n",
        "    print(f\"{cls}: {prob}\")\n"
      ],
      "metadata": {
        "id": "yz3BQGHBv2zD"
      },
      "execution_count": null,
      "outputs": []
    },
    {
      "cell_type": "code",
      "source": [
        "# Example usage\n",
        "example_classes = test_loader.dataset.classes\n",
        "\n",
        "pred_class, confidence, all_probs = predict_custom_image(\n",
        "            model=model,\n",
        "            image_path='/content/TTT.jpg',\n",
        "            class_names=example_classes\n",
        "        )\n",
        "\n",
        "print(f\"\\nPrediction Results:\")\n",
        "print(f\"Most likely: {pred_class} ({confidence*100:.2f}% confidence)\")\n",
        "print(\"\\nAll class probabilities:\")\n",
        "for cls, prob in all_probs.items():\n",
        "    print(f\"{cls}: {prob}\")\n"
      ],
      "metadata": {
        "id": "gXkGkojNvSAd"
      },
      "execution_count": null,
      "outputs": []
    },
    {
      "cell_type": "code",
      "source": [
        "# Example usage\n",
        "example_classes = test_loader.dataset.classes\n",
        "\n",
        "pred_class, confidence, all_probs = predict_custom_image(\n",
        "            model=model,\n",
        "            image_path='/content/71uPkyrlipL.jpg',\n",
        "            class_names=example_classes\n",
        "        )\n",
        "\n",
        "print(f\"\\nPrediction Results:\")\n",
        "print(f\"Most likely: {pred_class} ({confidence*100:.2f}% confidence)\")\n",
        "print(\"\\nAll class probabilities:\")\n",
        "for cls, prob in all_probs.items():\n",
        "    print(f\"{cls}: {prob}\")\n"
      ],
      "metadata": {
        "id": "h3vUsdLOveox"
      },
      "execution_count": null,
      "outputs": []
    },
    {
      "cell_type": "code",
      "source": [
        "# Example usage\n",
        "example_classes = test_loader.dataset.classes\n",
        "\n",
        "pred_class, confidence, all_probs = predict_custom_image(\n",
        "            model=model,\n",
        "            image_path='/content/tip.jpg',\n",
        "            class_names=example_classes\n",
        "        )\n",
        "\n",
        "print(f\"\\nPrediction Results:\")\n",
        "print(f\"Most likely: {pred_class} ({confidence*100:.2f}% confidence)\")\n",
        "print(\"\\nAll class probabilities:\")\n",
        "for cls, prob in all_probs.items():\n",
        "    print(f\"{cls}: {prob}\")\n"
      ],
      "metadata": {
        "id": "RLw_u57-S5nX"
      },
      "execution_count": null,
      "outputs": []
    },
    {
      "cell_type": "code",
      "source": [
        "# Example usage\n",
        "example_classes = test_loader.dataset.classes\n",
        "\n",
        "pred_class, confidence, all_probs = predict_custom_image(\n",
        "            model=model,\n",
        "            image_path='/content/Test_end.jpg',\n",
        "            class_names=example_classes\n",
        "        )\n",
        "\n",
        "print(f\"\\nPrediction Results:\")\n",
        "print(f\"Most likely: {pred_class} ({confidence*100:.2f}% confidence)\")\n",
        "print(\"\\nAll class probabilities:\")\n",
        "for cls, prob in all_probs.items():\n",
        "    print(f\"{cls}: {prob}\")\n"
      ],
      "metadata": {
        "id": "HqrEec9ES6I1"
      },
      "execution_count": null,
      "outputs": []
    },
    {
      "cell_type": "code",
      "source": [
        "# Example usage\n",
        "example_classes = test_loader.dataset.classes\n",
        "\n",
        "pred_class, confidence, all_probs = predict_custom_image(\n",
        "            model=model,\n",
        "            image_path='/content/ue2ilgr1xau21.jpg',\n",
        "            class_names=example_classes\n",
        "        )\n",
        "\n",
        "print(f\"\\nPrediction Results:\")\n",
        "print(f\"Most likely: {pred_class} ({confidence*100:.2f}% confidence)\")\n",
        "print(\"\\nAll class probabilities:\")\n",
        "for cls, prob in all_probs.items():\n",
        "    print(f\"{cls}: {prob}\")\n"
      ],
      "metadata": {
        "id": "3VIxxF7FUQBT"
      },
      "execution_count": null,
      "outputs": []
    },
    {
      "cell_type": "code",
      "source": [
        "# Example usage\n",
        "example_classes = test_loader.dataset.classes\n",
        "\n",
        "pred_class, confidence, all_probs = predict_custom_image(\n",
        "            model=model,\n",
        "            image_path='/content/bud.jpg',\n",
        "            class_names=example_classes\n",
        "        )\n",
        "\n",
        "print(f\"\\nPrediction Results:\")\n",
        "print(f\"Most likely: {pred_class} ({confidence*100:.2f}% confidence)\")\n",
        "print(\"\\nAll class probabilities:\")\n",
        "for cls, prob in all_probs.items():\n",
        "    print(f\"{cls}: {prob}\")\n"
      ],
      "metadata": {
        "id": "4yyqxWR_B67W"
      },
      "execution_count": null,
      "outputs": []
    },
    {
      "cell_type": "code",
      "source": [
        "# Example usage\n",
        "example_classes = test_loader.dataset.classes\n",
        "\n",
        "pred_class, confidence, all_probs = predict_custom_image(\n",
        "            model=model,\n",
        "            image_path='/content/image-asset.jpeg',\n",
        "            class_names=example_classes\n",
        "        )\n",
        "\n",
        "print(f\"\\nPrediction Results:\")\n",
        "print(f\"Most likely: {pred_class} ({confidence*100:.2f}% confidence)\")\n",
        "print(\"\\nAll class probabilities:\")\n",
        "for cls, prob in all_probs.items():\n",
        "    print(f\"{cls}: {prob}\")\n"
      ],
      "metadata": {
        "id": "CVKlTjEOD85p"
      },
      "execution_count": null,
      "outputs": []
    },
    {
      "cell_type": "code",
      "source": [
        "# Example usage\n",
        "example_classes = test_loader.dataset.classes\n",
        "\n",
        "pred_class, confidence, all_probs = predict_custom_image(\n",
        "            model=model,\n",
        "            image_path='/content/4539621__64029.jpg',\n",
        "            class_names=example_classes\n",
        "        )\n",
        "\n",
        "print(f\"\\nPrediction Results:\")\n",
        "print(f\"Most likely: {pred_class} ({confidence*100:.2f}% confidence)\")\n",
        "print(\"\\nAll class probabilities:\")\n",
        "for cls, prob in all_probs.items():\n",
        "    print(f\"{cls}: {prob}\")\n"
      ],
      "metadata": {
        "id": "VirqIhyREOSt"
      },
      "execution_count": null,
      "outputs": []
    },
    {
      "cell_type": "code",
      "source": [],
      "metadata": {
        "id": "w-HZ2O3N7j2b"
      },
      "execution_count": null,
      "outputs": []
    },
    {
      "cell_type": "code",
      "source": [
        "# Example usage\n",
        "example_classes = test_loader.dataset.classes\n",
        "\n",
        "pred_class, confidence, all_probs = predict_custom_image(\n",
        "            model=model,\n",
        "            image_path='/content/Ohto_2_Eraser_Refill.jpg',\n",
        "            class_names=example_classes\n",
        "        )\n",
        "\n",
        "print(f\"\\nPrediction Results:\")\n",
        "print(f\"Most likely: {pred_class} ({confidence*100:.2f}% confidence)\")\n",
        "print(\"\\nAll class probabilities:\")\n",
        "for cls, prob in all_probs.items():\n",
        "    print(f\"{cls}: {prob}\")\n"
      ],
      "metadata": {
        "id": "ZLcYdEv1EOaZ"
      },
      "execution_count": null,
      "outputs": []
    },
    {
      "cell_type": "code",
      "source": [
        "example_classes = test_loader.dataset.classes\n",
        "\n",
        "pred_class, confidence, all_probs = predict_with_debug(\n",
        "            model=model,\n",
        "            image_path='/content/Ohto_2_Eraser_Refill.jpg',\n",
        "            class_names=example_classes\n",
        "        )\n",
        "\n",
        "print(f\"\\nPrediction Results:\")\n",
        "print(f\"Most likely: {pred_class} ({confidence*100:.2f}% confidence)\")\n",
        "print(\"\\nAll class probabilities:\")\n",
        "for cls, prob in all_probs.items():\n",
        "    print(f\"{cls}: {prob}\")"
      ],
      "metadata": {
        "id": "WkBa7bAt91Gr"
      },
      "execution_count": null,
      "outputs": []
    },
    {
      "cell_type": "code",
      "source": [
        "example_classes = test_loader.dataset.classes\n",
        "\n",
        "pred_class, confidence, all_probs = predict_with_debug(\n",
        "            model=model,\n",
        "            image_path='/content/pc.jpg',\n",
        "            class_names=example_classes\n",
        "        )\n",
        "\n",
        "print(f\"\\nPrediction Results:\")\n",
        "print(f\"Most likely: {pred_class} ({confidence*100:.2f}% confidence)\")\n",
        "print(\"\\nAll class probabilities:\")\n",
        "for cls, prob in all_probs.items():\n",
        "    print(f\"{cls}: {prob}\")"
      ],
      "metadata": {
        "id": "6Ges6x9X8-pT"
      },
      "execution_count": null,
      "outputs": []
    },
    {
      "cell_type": "code",
      "source": [
        "example_classes = test_loader.dataset.classes\n",
        "\n",
        "pred_class, confidence, all_probs = predict_with_debug(\n",
        "            model=model,\n",
        "            image_path='/content/610qJ+apPML._AC_UF1000,1000_QL80_.jpg',\n",
        "            class_names=example_classes\n",
        "        )\n",
        "\n",
        "print(f\"\\nPrediction Results:\")\n",
        "print(f\"Most likely: {pred_class} ({confidence*100:.2f}% confidence)\")\n",
        "print(\"\\nAll class probabilities:\")\n",
        "for cls, prob in all_probs.items():\n",
        "    print(f\"{cls}: {prob}\")"
      ],
      "metadata": {
        "id": "6NoO9dFW9Ee7"
      },
      "execution_count": null,
      "outputs": []
    }
  ]
}