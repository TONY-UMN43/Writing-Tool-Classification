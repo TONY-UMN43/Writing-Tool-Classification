{
  "nbformat": 4,
  "nbformat_minor": 0,
  "metadata": {
    "colab": {
      "provenance": []
    },
    "kernelspec": {
      "name": "python3",
      "display_name": "Python 3"
    },
    "language_info": {
      "name": "python"
    }
  },
  "cells": [
    {
      "cell_type": "code",
      "execution_count": 316,
      "metadata": {
        "id": "crG7Lho1xhG_"
      },
      "outputs": [],
      "source": [
        "import torch\n",
        "import torch.nn as nn\n",
        "import torch.nn.functional as F\n",
        "import numpy as np\n",
        "import pandas as pd\n",
        "import matplotlib.pyplot as plt\n"
      ]
    },
    {
      "cell_type": "code",
      "source": [
        "import zipfile\n",
        "\n",
        "file_path = '/content/Multi-Label(Pens,Pencils,Both).zip'\n",
        "\n",
        "new_file = 'Pens_Pencils'\n",
        "\n",
        "with zipfile.ZipFile(file_path,'r') as zip_ref:\n",
        "  zip_ref.extractall(new_file)\n",
        "\n",
        "\n"
      ],
      "metadata": {
        "id": "BtZW8Gj_xttG"
      },
      "execution_count": 317,
      "outputs": []
    },
    {
      "cell_type": "code",
      "source": [
        "import os\n",
        "\n",
        "root_dir = '/content/Pens_Pencils/Multi-Label(Pens,Pencils,Both)/Images'\n",
        "data = []\n",
        "\n",
        "for label in os.listdir(root_dir):\n",
        "    class_folder = os.path.join(root_dir, label)\n",
        "    if not os.path.isdir(class_folder):\n",
        "        continue\n",
        "    for img_file in os.listdir(class_folder):\n",
        "      if img_file.startswith('.'):\n",
        "        continue\n",
        "      img_path = os.path.join(label, img_file)\n",
        "      data.append([img_path, label])\n",
        "\n",
        "df = pd.DataFrame(data, columns=['image_path', 'label'])\n",
        "df.to_csv('image_labels.csv', index=False)\n"
      ],
      "metadata": {
        "id": "N8rw6t_lEdMk"
      },
      "execution_count": 318,
      "outputs": []
    },
    {
      "cell_type": "code",
      "source": [
        "from torchvision import datasets, transforms\n",
        "from torch.utils.data import DataLoader, random_split\n",
        "from torchvision.transforms import ToTensor\n",
        "from torch.utils.data import Dataset\n",
        "\n",
        "from PIL import Image\n",
        "\n",
        "class custom_DataLoader(Dataset):\n",
        "  def __init__(self,csv_file,img_dir,transform=None):\n",
        "    self.df = pd.read_csv(csv_file)\n",
        "    unique_labels = self.df.iloc[:, 1].unique() # Get unique values from the label column\n",
        "    self.label_to_index = {label: index for index, label in enumerate(sorted(unique_labels))}\n",
        "    self.index_to_label = {index: label for label, index in self.label_to_index.items()} # Optional, for debugging/verification\n",
        "    self.num_classes = len(unique_labels)   # Store the number of unique classes\n",
        "\n",
        "    self.img_dir = img_dir\n",
        "    self.transform = transform\n",
        "\n",
        "  def __len__(self):\n",
        "      return len(self.df)\n",
        "\n",
        "\n",
        "  def __getitem__(self, idx):\n",
        "      img_name = os.path.join(self.img_dir, self.df.iloc[idx, 0])  # assuming first column is image filename\n",
        "      image = Image.open(img_name).convert('RGB') # Ensure image is in a compatible format (e.g., RGB or L for grayscale)\n",
        "\n",
        "        # Get the character label and convert it to its corresponding integer index\n",
        "      char_label = self.df.iloc[idx, 1]\n",
        "      if (char_label == \"Pen\"):\n",
        "        label = [1,0]\n",
        "      elif (char_label == \"Pen_Pencil\"):\n",
        "        label = [1,1]\n",
        "      else:\n",
        "        label = [0,1]\n",
        "\n",
        "        # Convert the integer index label to a PyTorch tensor\n",
        "      label = torch.FloatTensor(label) # Use dtype=torch.long for CrossEntropyLoss\n",
        "\n",
        "      if self.transform:\n",
        "            # Apply the transform to the image (which should be a PIL Image now)\n",
        "          image = self.transform(image)\n",
        "\n",
        "      return image, label"
      ],
      "metadata": {
        "id": "bVR6WrxPMFOD"
      },
      "execution_count": 319,
      "outputs": []
    },
    {
      "cell_type": "code",
      "source": [
        "transformations = transforms.Compose([\n",
        "    transforms.Grayscale(),\n",
        "    transforms.Resize((28,28)),\n",
        "    transforms.RandomRotation(0.4),\n",
        "    transforms.RandomVerticalFlip(0.6),\n",
        "    transforms.ColorJitter(brightness=0.4,hue=0.3),\n",
        "    transforms.ToTensor(),\n",
        "    transforms.Normalize(mean=[0.5],std=[0.5])\n",
        "])"
      ],
      "metadata": {
        "id": "dar1ok1AR2Mc"
      },
      "execution_count": 320,
      "outputs": []
    },
    {
      "cell_type": "code",
      "source": [
        "dataset = custom_DataLoader('/content/image_labels.csv','/content/Pens_Pencils/Multi-Label(Pens,Pencils,Both)/Images',transformations)\n"
      ],
      "metadata": {
        "id": "JHX_i3H8OvJY"
      },
      "execution_count": 321,
      "outputs": []
    },
    {
      "cell_type": "code",
      "source": [
        "\n",
        "total_size_dataset = len(dataset)\n",
        "train_set_size = int(total_size_dataset * 0.7)\n",
        "val_set_size = int(total_size_dataset * 0.15)\n",
        "test_set_size = total_size_dataset - (train_set_size + val_set_size)\n",
        "\n",
        "train_set, val_set, test_set = random_split(dataset, [train_set_size, val_set_size, test_set_size])\n",
        "\n",
        "train_loader = DataLoader(train_set,batch_size=32,shuffle=True)\n",
        "val_loader = DataLoader(val_set,batch_size=32,shuffle=False)\n",
        "test_loader = DataLoader(test_set,batch_size=32,shuffle=False)\n",
        "\n",
        "loaders = {\n",
        "    'train':train_loader,\n",
        "    'validate':val_loader,\n",
        "    'test':test_loader\n",
        "}\n",
        "\n",
        "num_classes = dataset.num_classes\n"
      ],
      "metadata": {
        "id": "fVz6FsKcSbmV"
      },
      "execution_count": 322,
      "outputs": []
    },
    {
      "source": [
        "import torch\n",
        "import torch.nn as nn\n",
        "import torch.nn.functional as F\n",
        "\n",
        "class ModelClassifier(nn.Module):\n",
        "    def __init__(self):\n",
        "        super(ModelClassifier, self).__init__()\n",
        "        self.conv1 = nn.Sequential(\n",
        "                      nn.Conv2d(1, 32, kernel_size=3, padding=1),\n",
        "                      nn.BatchNorm2d(32),\n",
        "                      nn.ReLU(),\n",
        "                      nn.MaxPool2d(2,2)\n",
        "        )\n",
        "        self.conv2 = nn.Sequential(nn.Conv2d(32, 64, kernel_size=3, padding=1),\n",
        "                      nn.BatchNorm2d(64),\n",
        "                      nn.ReLU(),\n",
        "                      nn.MaxPool2d(2,2)\n",
        "        # self.conv2_drop = nn.Dropout2d()\n",
        "        )\n",
        "        self.conv3 = nn.Sequential(nn.Conv2d(64,128,kernel_size=3, padding=1),\n",
        "                      nn.BatchNorm2d(128),\n",
        "                      nn.ReLU(),\n",
        "                      nn.MaxPool2d(2,2)\n",
        "        )\n",
        "        # self.conv3_drop = nn.Dropout2d()\n",
        "        self.conv4 = nn.Sequential(nn.Conv2d(128,256,kernel_size=3, padding=1),\n",
        "                     nn.BatchNorm2d(256),\n",
        "                     nn.ReLU(),\n",
        "                     nn.MaxPool2d(2,2)\n",
        "        )\n",
        "        self.drop = nn.Dropout(0.5)\n",
        "        # Calculate the flattened size dynamically\n",
        "        # Create a dummy tensor with the expected input dimensions (batch_size=1, channels=1, height=28, width=28)\n",
        "        # The size needs to match the input image size after transformations (28x28 grayscale in your case)\n",
        "        dummy_input = torch.randn(1, 1, 28, 28)\n",
        "\n",
        "        # self.eval()\n",
        "        # # Pass the dummy input through the convolutional and pooling layers\n",
        "        # # Ensure the operations match the forward pass up to the point of flattening\n",
        "        # x = F.relu(self.bn1(F.max_pool2d(self.conv1(dummy_input), 2)))\n",
        "        # x = F.relu(self.bn2(F.max_pool2d(self.conv2(x), 2)))\n",
        "        # x = F.relu(self.bn3(self.conv3(x)))\n",
        "        # x = F.relu(self.bn4(self.conv4(x)))\n",
        "        # self.train()\n",
        "        x = self.conv1(dummy_input)\n",
        "        x = self.conv2(x)\n",
        "        # # Note: conv2_drop is not applied when calculating the size\n",
        "        # x = F.relu(self.bn2(F.max_pool2d(x, 2)))\n",
        "        x = self.conv3(x)\n",
        "        x = self.conv4(x)\n",
        "        # Calculate the number of features before flattening\n",
        "        self._to_linear = x.numel() // x.shape[0] # Divide by batch size\n",
        "\n",
        "        self.dense = nn.Linear(self._to_linear, 300)\n",
        "        self.out = nn.Linear(300, 2)\n",
        "\n",
        "    def forward(self, x):\n",
        "      # Layer 1\n",
        "        # x = F.relu(self.bn1(F.max_pool2d(self.conv1(x), 2)))\n",
        "        # # Layer 2\n",
        "        # x = self.conv2(x)\n",
        "        # x = self.conv2_drop(x)\n",
        "        # x = F.relu(self.bn2(F.max_pool2d(x, 2)))\n",
        "        # # Layer 3\n",
        "        # x = self.conv3(x)\n",
        "        # x = self.conv3_drop(x)\n",
        "        # x = F.relu(self.bn3(x))\n",
        "        # # Layer 4\n",
        "        # x = self.conv4(x)\n",
        "        # x = self.conv4_drop(x)\n",
        "        # x = F.relu(self.bn4(x))\n",
        "        x = self.conv1(x)\n",
        "        x = self.conv2(x)\n",
        "        x = self.conv3(x)\n",
        "        x = self.conv4(x)\n",
        "        # x = x.view(-1, self._to_linear)\n",
        "        x = x.view(x.size(0), -1)\n",
        "        x = self.drop(x)\n",
        "        # Layer 5\n",
        "        x = F.relu(self.dense(x))\n",
        "        x = self.out(x)\n",
        "\n",
        "        return torch.sigmoid(x)"
      ],
      "cell_type": "code",
      "metadata": {
        "id": "6jAd2ZbgFZkT"
      },
      "execution_count": 323,
      "outputs": []
    },
    {
      "cell_type": "code",
      "source": [
        "device = ''\n",
        "if (torch.cuda.is_available()):\n",
        "  device = 'cuda'\n",
        "else:\n",
        "  device = 'cpu'\n",
        "\n",
        "model = ModelClassifier().to(device)\n",
        "optimizer = torch.optim.Adam(model.parameters(), lr = 0.001)\n",
        "\n",
        "scheduler = torch.optim.lr_scheduler.ReduceLROnPlateau(optimizer, 'min', patience=3, factor=0.5)\n",
        "# optimizer = nn.optim.Adam(model_parameters(), lr = 0.001)\n",
        "\n",
        "\n",
        "loss_fn = nn.BCELoss()\n",
        "\n",
        "def validate(model,val_loader,loss_fn):\n",
        "    model.eval()\n",
        "    val_loss = 0\n",
        "    correct = 0\n",
        "    total = 0\n",
        "\n",
        "    with torch.no_grad():\n",
        "        for data, target in val_loader:\n",
        "            data, target = data.to(device), target.to(device)\n",
        "            output = model(data)\n",
        "            val_loss += loss_fn(output, target).item()\n",
        "\n",
        "            pred = (output > 0.5).float()\n",
        "            correct += (pred == target).sum().item()\n",
        "            total += target.numel()\n",
        "\n",
        "    val_loss /= len(val_loader)\n",
        "    accuracy = 100. * correct / total\n",
        "\n",
        "    return val_loss, accuracy\n",
        "\n",
        "def train(model,epochs,patience=5):\n",
        "    best_val_loss = float('inf')\n",
        "    best_model_weights = None\n",
        "    epochs_no_improve = 0\n",
        "\n",
        "\n",
        "    train_accuracy_list = []\n",
        "    val_accuracy_list = []\n",
        "    train_loss_list = []\n",
        "    val_loss_list = []\n",
        "\n",
        "    for epoch in range(1, epochs + 1):\n",
        "        # Training phase\n",
        "        model.train()\n",
        "        train_loss = 0\n",
        "        correct = 0\n",
        "        total = 0\n",
        "\n",
        "        for batch_idx, (data, target) in enumerate(loaders['train']):\n",
        "            data, target = data.to(device), target.to(device)\n",
        "            optimizer.zero_grad()\n",
        "            output = model(data)\n",
        "            loss = loss_fn(output, target.float())\n",
        "            loss.backward()\n",
        "            optimizer.step()\n",
        "            train_loss += loss.item()\n",
        "            pred = (output > 0.5).float()\n",
        "            correct += (pred == target).sum().item()\n",
        "            total += target.numel()\n",
        "\n",
        "            if batch_idx % 10 == 0:\n",
        "                print(f'Epoch: {epoch} [{batch_idx * len(data)}/{len(loaders[\"train\"].dataset)} '\n",
        "                      f'({100. * batch_idx / len(loaders[\"train\"]):.0f}%)]\\tLoss: {loss.item():.6f}')\n",
        "\n",
        "        # Validation phase\n",
        "        val_loss, val_acc = validate(model, loaders['validate'], loss_fn)\n",
        "        train_loss /= len(loaders['train'])\n",
        "        train_acc = 100. * correct / total\n",
        "\n",
        "        train_accuracy_list.append(train_acc)\n",
        "        val_accuracy_list.append(val_acc)\n",
        "\n",
        "        train_loss_list.append(train_loss)\n",
        "        val_loss_list.append(val_loss)\n",
        "\n",
        "        print(f'\\nEpoch {epoch}:')\n",
        "        print(f'Train Loss: {train_loss:.4f} | Accuracy: {train_acc:.2f}%')\n",
        "        print(f'Val Loss: {val_loss:.4f} | Accuracy: {val_acc:.2f}%')\n",
        "\n",
        "        # Learning rate scheduling\n",
        "        scheduler.step(val_loss)\n",
        "\n",
        "        # Early stopping check\n",
        "        if val_loss < best_val_loss:\n",
        "            best_val_loss = val_loss\n",
        "            best_model_weights = model.state_dict()\n",
        "            epochs_no_improve = 0\n",
        "            torch.save(model.state_dict(), 'best_model.pth')\n",
        "            print(f'Validation loss improved. Model saved.')\n",
        "        else:\n",
        "            epochs_no_improve += 1\n",
        "            print(f'No improvement in validation loss for {epochs_no_improve} epochs')\n",
        "            if epochs_no_improve >= patience:\n",
        "                print(f'Early stopping after {epoch} epochs')\n",
        "                break\n",
        "\n",
        "\n",
        "    # plt.subplot(1,2,2)\n",
        "    plt.plot(train_accuracy_list,label= 'Train Accuracy')\n",
        "    plt.plot(val_accuracy_list,label= \"Validation Accuracy\")\n",
        "    plt.title(\"Train & Validation Accuracy\")\n",
        "    plt.xlabel(\"epocs\")\n",
        "    plt.ylabel(\"Accuracy(%)\")\n",
        "    plt.legend()\n",
        "    plt.tight_layout()\n",
        "    plt.show()\n",
        "\n",
        "    # plt.subplot(1,2,1)\n",
        "    plt.plot(train_loss_list,label=\"Training Loss\")\n",
        "    plt.plot(val_loss_list,label= \"Validation Loss\")\n",
        "    plt.title(\"Training & Validation Loss\")\n",
        "    plt.xlabel(\"Epochs\")\n",
        "    plt.ylabel(\"Accuracy(%)\")\n",
        "    plt.legend()\n",
        "    plt.tight_layout()\n",
        "\n",
        "\n",
        "    plt.show()\n",
        "\n",
        "    plt.plot(train_accuracy_list)\n",
        "    plt.plot(val_accuracy_list)\n",
        "    # Load best model weights\n",
        "    model.load_state_dict(best_model_weights)\n",
        "    return model\n"
      ],
      "metadata": {
        "id": "NThYhl2P0oOA"
      },
      "execution_count": 351,
      "outputs": []
    },
    {
      "cell_type": "code",
      "source": [],
      "metadata": {
        "colab": {
          "base_uri": "https://localhost:8080/",
          "height": 472
        },
        "id": "o5UysWTA7uR9",
        "outputId": "05665605-3323-425a-e77f-60f4dedc0afa"
      },
      "execution_count": 350,
      "outputs": [
        {
          "output_type": "display_data",
          "data": {
            "text/plain": [
              "<Figure size 640x480 with 1 Axes>"
            ],
            "image/png": "[encoded data removed]"
          },
          "metadata": {}
        }
      ]
    },
    {
      "cell_type": "code",
      "source": [
        "torch.save(model,'Pen_and_Pencil_md.pth')"
      ],
      "metadata": {
        "id": "y8_GHhlPQhzs"
      },
      "execution_count": 325,
      "outputs": []
    },
    {
      "cell_type": "code",
      "source": [
        "layer_outputs = {}\n",
        "def get_layer_output(name):\n",
        "    \"\"\"Hook function to store layer output\"\"\"\n",
        "    def hook(model, input, output):\n",
        "        layer_outputs[name] = output.detach()\n",
        "    return hook"
      ],
      "metadata": {
        "id": "foK32EvWtUNR"
      },
      "execution_count": 326,
      "outputs": []
    },
    {
      "source": [
        "# Test\n",
        "# Calculate multi-label metrics properly\n",
        "def test_model(model, test_loader, print_samples=5):\n",
        "    model.eval()\n",
        "\n",
        "    # Initialize counters\n",
        "    true_positives = torch.zeros(2).to(device)  # For Pen and Pencil\n",
        "    false_positives = torch.zeros(2).to(device)\n",
        "    false_negatives = torch.zeros(2).to(device)\n",
        "    exact_matches = 0\n",
        "    total_samples = 0\n",
        "\n",
        "    # For sample printing\n",
        "    samples_shown = 0\n",
        "    class_names = ['Pen', 'Pencil']\n",
        "\n",
        "    print(\"\\nTesting model...\")\n",
        "    print(\"-\" * 50)\n",
        "\n",
        "    with torch.no_grad():\n",
        "        for images, labels in test_loader:\n",
        "            images, labels = images.to(device), labels.to(device)\n",
        "            outputs = model(images)\n",
        "            predicted = (outputs > 0.5).float()\n",
        "\n",
        "            # Update statistics\n",
        "            true_positives += (predicted * labels).sum(dim=0)\n",
        "            false_positives += (predicted * (1 - labels)).sum(dim=0)\n",
        "            false_negatives += ((1 - predicted) * labels).sum(dim=0)\n",
        "\n",
        "            # Exact match ratio\n",
        "            exact_matches += (predicted == labels).all(dim=1).sum().item()\n",
        "            total_samples += labels.size(0)\n",
        "\n",
        "            # Print sample predictions\n",
        "            if samples_shown < print_samples:\n",
        "                for i in range(labels.size(0)):\n",
        "                    if samples_shown >= print_samples:\n",
        "                        break\n",
        "\n",
        "                    true_labels = [class_names[j] for j in range(2) if labels[i][j] == 1]\n",
        "                    pred_labels = [class_names[j] for j in range(2) if predicted[i][j] == 1]\n",
        "\n",
        "                    correct_str = \"✓\" if (predicted[i] == labels[i]).all() else \"✗\"\n",
        "                    print(f\"  {correct_str} Pred: {', '.join(pred_labels):<15} (True: {', '.join(true_labels)})\")\n",
        "                    samples_shown += 1\n",
        "\n",
        "    # Calculate metrics\n",
        "    precision = true_positives / (true_positives + false_positives + 1e-10)\n",
        "    recall = true_positives / (true_positives + false_negatives + 1e-10)\n",
        "    f1 = 2 * (precision * recall) / (precision + recall + 1e-10)\n",
        "\n",
        "    exact_match_accuracy = 100. * exact_matches / total_samples\n",
        "\n",
        "    print(\"\\nClass-wise Performance:\")\n",
        "    print(\"-\" * 50)\n",
        "    for i in range(2):\n",
        "        print(f\"{class_names[i]:<15}\")\n",
        "        print(f\"  Precision: {precision[i].item()*100:.2f}%\")\n",
        "        print(f\"  Recall:    {recall[i].item()*100:.2f}%\")\n",
        "        print(f\"  F1 Score:  {f1[i].item()*100:.2f}%\")\n",
        "        print(\"-\" * 50)\n",
        "\n",
        "    print(f\"\\nExact Match Accuracy: {exact_match_accuracy:.2f}%\")\n",
        "    print(f\"(Percentage of samples where all labels were predicted correctly)\")\n",
        "    print(\"-\" * 50)\n",
        "\n",
        "    return {\n",
        "        'precision': precision.cpu().numpy(),\n",
        "        'recall': recall.cpu().numpy(),\n",
        "        'f1': f1.cpu().numpy(),\n",
        "        'exact_match_accuracy': exact_match_accuracy\n",
        "    }"
      ],
      "cell_type": "code",
      "metadata": {
        "id": "Xrp9SqF3o-xE"
      },
      "execution_count": 327,
      "outputs": []
    },
    {
      "cell_type": "code",
      "source": [
        "# # Test\n",
        "\n",
        "# def test_model(model, test_loader, print_samples=5):\n",
        "#     model.eval()\n",
        "#     class_names = list(test_loader.dataset.dataset.index_to_label.values())\n",
        "#     num_classes = len(class_names)\n",
        "\n",
        "#     # Initialize counters\n",
        "#     class_correct = [0] * num_classes\n",
        "#     class_total = [0] * num_classes\n",
        "#     samples_shown = 0\n",
        "\n",
        "#     print(\"\\nTesting model...\")\n",
        "#     print(\"-\" * 50)\n",
        "\n",
        "#     with torch.no_grad():\n",
        "#         for images, labels in test_loader:\n",
        "#             images, labels = images.to(device), labels.to(device)\n",
        "#             outputs = model(images)\n",
        "#             pred = (outputs > 0.5)\n",
        "\n",
        "#             # Update statistics\n",
        "#             for label, prediction in zip(labels, predicted):\n",
        "#               for i in range(len(label)):\n",
        "#                   class_total[i] += 1\n",
        "#                   if i == prediction:\n",
        "#                       class_correct[i] += 1\n",
        "\n",
        "#             # Print balanced samples\n",
        "#             if samples_shown < print_samples:\n",
        "#                 for i in range(len(images)):\n",
        "#                     if samples_shown >= print_samples:\n",
        "#                         break\n",
        "#                     if class_total[labels[i].item()] <= print_samples//num_classes:\n",
        "#                         pred_name = class_names[predicted[i].item()]\n",
        "#                         true_name = class_names[labels[i].item()]\n",
        "#                         correct_str = \"✓\" if predicted[i] == labels[i] else \"✗\"\n",
        "#                         print(f\"  {correct_str} Pred: {pred_name:<15} (True: {true_name})\")\n",
        "#                         samples_shown += 1\n",
        "\n",
        "#     # Calculate overall and per-class accuracy\n",
        "#     total_correct = sum(class_correct)\n",
        "#     total = sum(class_total)\n",
        "#     overall_accuracy = 100 * total_correct / total\n",
        "\n",
        "#     print(\"\\nClass-wise Performance:\")\n",
        "#     print(\"-\" * 50)\n",
        "#     for i in range(num_classes):\n",
        "#         accuracy = 100 * class_correct[i] / class_total[i] if class_total[i] > 0 else 0\n",
        "#         print(f\"{class_names[i]:<15}: {accuracy:.2f}% ({class_correct[i]}/{class_total[i]})\")\n",
        "\n",
        "#     print(\"-\" * 50)\n",
        "#     print(f\"\\nOverall Accuracy: {overall_accuracy:.2f}% ({total_correct}/{total})\")\n",
        "#     print(\"-\" * 50)\n",
        "\n",
        "#     return overall_accuracy"
      ],
      "metadata": {
        "id": "rft0Ec1i7Ep8"
      },
      "execution_count": 328,
      "outputs": []
    },
    {
      "cell_type": "code",
      "source": [
        "import torch\n",
        "import torch.nn as nn\n",
        "import torch.nn.functional as F\n",
        "from sklearn.metrics import f1_score # Import f1_score here\n",
        "\n",
        "def find_optimal_thresholds(model, val_loader):\n",
        "    \"\"\"Find class-specific thresholds that maximize F1 score on validation set\"\"\"\n",
        "    model.eval()\n",
        "    all_outputs = []\n",
        "    all_labels = []\n",
        "\n",
        "    with torch.no_grad():\n",
        "        for images, labels in val_loader:\n",
        "            images, labels = images.to(device), labels.to(device)\n",
        "            outputs = model(images)\n",
        "            all_outputs.append(outputs)\n",
        "            all_labels.append(labels)\n",
        "\n",
        "    # Concatenate all validation data\n",
        "    outputs = torch.cat(all_outputs)\n",
        "    labels = torch.cat(all_labels)\n",
        "\n",
        "    # Find best threshold for each class\n",
        "    optimal_thresholds = []\n",
        "    for class_idx in range(2):  # For Pen (0) and Pencil (1)\n",
        "        best_thresh = 0.5\n",
        "        best_f1 = 0\n",
        "\n",
        "        # Test 100 threshold values between 0 and 1\n",
        "        for thresh in torch.linspace(0, 1, 100):\n",
        "            preds = (outputs[:, class_idx] > thresh).float()\n",
        "            # Use the imported f1_score\n",
        "            f1 = f1_score(labels[:, class_idx].cpu(), preds.cpu())\n",
        "            if f1 > best_f1:\n",
        "                best_f1 = f1\n",
        "                best_thresh = thresh.item()\n",
        "\n",
        "        optimal_thresholds.append(best_thresh)\n",
        "\n",
        "    return optimal_thresholds"
      ],
      "metadata": {
        "id": "kBdwmD4h5keM"
      },
      "execution_count": 329,
      "outputs": []
    },
    {
      "cell_type": "code",
      "source": [
        "train(model,10)"
      ],
      "metadata": {
        "colab": {
          "base_uri": "https://localhost:8080/",
          "height": 1000
        },
        "id": "GDayv8TQ338s",
        "outputId": "d86735e3-f355-4b23-a446-d7a9ebaa658d"
      },
      "execution_count": 352,
      "outputs": [
        {
          "output_type": "stream",
          "name": "stdout",
          "text": [
            "Epoch: 1 [0/294 (0%)]\tLoss: 0.642909\n",
            "\n",
            "Epoch 1:\n",
            "Train Loss: 0.6326 | Accuracy: 65.99%\n",
            "Val Loss: 0.6694 | Accuracy: 53.17%\n",
            "Validation loss improved. Model saved.\n",
            "Epoch: 2 [0/294 (0%)]\tLoss: 0.540673\n",
            "\n",
            "Epoch 2:\n",
            "Train Loss: 0.5958 | Accuracy: 70.41%\n",
            "Val Loss: 0.7274 | Accuracy: 51.59%\n",
            "No improvement in validation loss for 1 epochs\n",
            "Epoch: 3 [0/294 (0%)]\tLoss: 0.501048\n",
            "\n",
            "Epoch 3:\n",
            "Train Loss: 0.5610 | Accuracy: 72.45%\n",
            "Val Loss: 0.5813 | Accuracy: 73.02%\n",
            "Validation loss improved. Model saved.\n",
            "Epoch: 4 [0/294 (0%)]\tLoss: 0.506158\n",
            "\n",
            "Epoch 4:\n",
            "Train Loss: 0.5358 | Accuracy: 73.64%\n",
            "Val Loss: 0.5067 | Accuracy: 79.37%\n",
            "Validation loss improved. Model saved.\n",
            "Epoch: 5 [0/294 (0%)]\tLoss: 0.517133\n",
            "\n",
            "Epoch 5:\n",
            "Train Loss: 0.4982 | Accuracy: 76.36%\n",
            "Val Loss: 0.4953 | Accuracy: 76.19%\n",
            "Validation loss improved. Model saved.\n",
            "Epoch: 6 [0/294 (0%)]\tLoss: 0.471807\n",
            "\n",
            "Epoch 6:\n",
            "Train Loss: 0.4802 | Accuracy: 77.72%\n",
            "Val Loss: 0.4446 | Accuracy: 80.95%\n",
            "Validation loss improved. Model saved.\n",
            "Epoch: 7 [0/294 (0%)]\tLoss: 0.410949\n",
            "\n",
            "Epoch 7:\n",
            "Train Loss: 0.5045 | Accuracy: 77.04%\n",
            "Val Loss: 0.4831 | Accuracy: 73.81%\n",
            "No improvement in validation loss for 1 epochs\n",
            "Epoch: 8 [0/294 (0%)]\tLoss: 0.451648\n",
            "\n",
            "Epoch 8:\n",
            "Train Loss: 0.4261 | Accuracy: 80.10%\n",
            "Val Loss: 0.4748 | Accuracy: 79.37%\n",
            "No improvement in validation loss for 2 epochs\n",
            "Epoch: 9 [0/294 (0%)]\tLoss: 0.416802\n",
            "\n",
            "Epoch 9:\n",
            "Train Loss: 0.3914 | Accuracy: 83.67%\n",
            "Val Loss: 0.4577 | Accuracy: 73.81%\n",
            "No improvement in validation loss for 3 epochs\n",
            "Epoch: 10 [0/294 (0%)]\tLoss: 0.364233\n",
            "\n",
            "Epoch 10:\n",
            "Train Loss: 0.3519 | Accuracy: 85.20%\n",
            "Val Loss: 0.5477 | Accuracy: 77.78%\n",
            "No improvement in validation loss for 4 epochs\n"
          ]
        },
        {
          "output_type": "display_data",
          "data": {
            "text/plain": [
              "<Figure size 640x480 with 1 Axes>"
            ],
            "image/png": "[encoded data removed]"
          },
          "metadata": {}
        },
        {
          "output_type": "display_data",
          "data": {
            "text/plain": [
              "<Figure size 640x480 with 1 Axes>"
            ],
            "image/png": "[encoded data removed]"
          },
          "metadata": {}
        },
        {
          "output_type": "execute_result",
          "data": {
            "text/plain": [
              "ModelClassifier(\n",
              "  (conv1): Sequential(\n",
              "    (0): Conv2d(1, 32, kernel_size=(3, 3), stride=(1, 1), padding=(1, 1))\n",
              "    (1): BatchNorm2d(32, eps=1e-05, momentum=0.1, affine=True, track_running_stats=True)\n",
              "    (2): ReLU()\n",
              "    (3): MaxPool2d(kernel_size=2, stride=2, padding=0, dilation=1, ceil_mode=False)\n",
              "  )\n",
              "  (conv2): Sequential(\n",
              "    (0): Conv2d(32, 64, kernel_size=(3, 3), stride=(1, 1), padding=(1, 1))\n",
              "    (1): BatchNorm2d(64, eps=1e-05, momentum=0.1, affine=True, track_running_stats=True)\n",
              "    (2): ReLU()\n",
              "    (3): MaxPool2d(kernel_size=2, stride=2, padding=0, dilation=1, ceil_mode=False)\n",
              "  )\n",
              "  (conv3): Sequential(\n",
              "    (0): Conv2d(64, 128, kernel_size=(3, 3), stride=(1, 1), padding=(1, 1))\n",
              "    (1): BatchNorm2d(128, eps=1e-05, momentum=0.1, affine=True, track_running_stats=True)\n",
              "    (2): ReLU()\n",
              "    (3): MaxPool2d(kernel_size=2, stride=2, padding=0, dilation=1, ceil_mode=False)\n",
              "  )\n",
              "  (conv4): Sequential(\n",
              "    (0): Conv2d(128, 256, kernel_size=(3, 3), stride=(1, 1), padding=(1, 1))\n",
              "    (1): BatchNorm2d(256, eps=1e-05, momentum=0.1, affine=True, track_running_stats=True)\n",
              "    (2): ReLU()\n",
              "    (3): MaxPool2d(kernel_size=2, stride=2, padding=0, dilation=1, ceil_mode=False)\n",
              "  )\n",
              "  (drop): Dropout(p=0.5, inplace=False)\n",
              "  (dense): Linear(in_features=256, out_features=300, bias=True)\n",
              "  (out): Linear(in_features=300, out_features=2, bias=True)\n",
              ")"
            ]
          },
          "metadata": {},
          "execution_count": 352
        },
        {
          "output_type": "display_data",
          "data": {
            "text/plain": [
              "<Figure size 640x480 with 1 Axes>"
            ],
            "image/png": "[encoded data removed]"
          },
          "metadata": {}
        }
      ]
    },
    {
      "source": [
        "# from PIL import Image\n",
        "# import torch\n",
        "# import torch.nn.functional as F\n",
        "# import torchvision\n",
        "\n",
        "\n",
        "# def predict_custom_image(model, image_path, threshold=0.5):\n",
        "#     \"\"\"\n",
        "#     Predict image class(es) for a multi-label model with two outputs (Pen, Pencil).\n",
        "\n",
        "#     Args:\n",
        "#         model: Trained PyTorch model\n",
        "#         image_path: Path to image file\n",
        "#         threshold: Confidence threshold for considering a label present\n",
        "\n",
        "#     Returns:\n",
        "#         dict: {\n",
        "#             'probabilities': {'Pen': float, 'Pencil': float},\n",
        "#             'predictions': list of predicted classes,\n",
        "#             'confidence': average confidence of predicted labels\n",
        "#         }\n",
        "#     \"\"\"\n",
        "#     device = torch.device('cuda' if torch.cuda.is_available() else 'cpu')\n",
        "#     model = model.to(device)\n",
        "#     model.eval()\n",
        "\n",
        "#     # Preprocessing - MUST MATCH TRAINING PREPROCESSING\n",
        "#     transform = transforms.Compose([\n",
        "#         transforms.Grayscale(),\n",
        "#         transforms.Resize((28, 28)),\n",
        "#         transforms.ToTensor(),\n",
        "#         transforms.Normalize((0.5,), (0.5,))\n",
        "#     ])\n",
        "\n",
        "#     try:\n",
        "#         # Load and preprocess image\n",
        "#         img = Image.open(image_path)\n",
        "#         img_tensor = transform(img).unsqueeze(0).to(device)\n",
        "\n",
        "#         # Prediction\n",
        "#         with torch.no_grad():\n",
        "#           output = self.model(img_tensor)\n",
        "#           pen_prob, pencil_prob = output[0][0].item(), output[0][1].item()\n",
        "\n",
        "#         # Use class-specific thresholds\n",
        "#         has_pen = pen_prob > self.thresholds[0]\n",
        "#         has_pencil = pencil_prob > self.thresholds[1]\n",
        "\n",
        "#         # Print results\n",
        "#         print(\"\\nPrediction Results:\")\n",
        "#         print(\"-\" * 30)\n",
        "#         if has_pen and not has_pencil:\n",
        "#             print(\"Pen\")\n",
        "#         elif has_pencil and not has_pen:\n",
        "#             print(\"Pencil\")\n",
        "#         elif has_pen and has_pencil:\n",
        "#             print(\"Pen and Pencil\")\n",
        "#         else:\n",
        "#             print(\"Neither Pen nor Pencil\")\n",
        "#         print(\"-\" * 30)\n",
        "#         print(f\"Confidence - Pen: {pen_prob:.2%} (threshold: {self.thresholds[0]:.2f})\")\n",
        "#         print(f\"Confidence - Pencil: {pencil_prob:.2%} (threshold: {self.thresholds[1]:.2f})\")\n",
        "\n",
        "#     except Exception as e:\n",
        "#         raise RuntimeError(f\"Prediction failed: {str(e)}\")\n",
        "\n",
        "# Example usage\n",
        "# Make sure 'dataset' is the ImageFolder instance you want to use for getting class names\n",
        "# In your setup, 'dataset' is created directly under Custom_DataSet, while test_set is\n",
        "# created under Custom_DataSet/Test. For prediction on individual images, it's often\n",
        "# convenient to use a dataset object that reflects the classes you trained on.\n",
        "# Using 'train_set' or 'test_set' here would also work as they share the same class structure\n",
        "# derived from the subfolders. Let's use train_set as it's generally available.\n",
        "# However, the original code uses 'dataset' from the root, which should also work\n",
        "# if the root contains subfolders corresponding to the classes. Let's stick to 'dataset'\n",
        "# as per the original error context.\n",
        "\n",
        "# Ensure the device variable is defined (it is in your global variables)\n",
        "# device = 'cuda' if torch.cuda.is_available() else 'cpu' # This is defined earlier in your notebook\n",
        "\n",
        "# Ensure the dataset object is available and correctly instantiated ImageFolder\n",
        "# dataset = datasets.ImageFolder('/content/Pens_Pencils/Custom_DataSet', transform=transform) # This is defined earlier\n"
      ],
      "cell_type": "code",
      "metadata": {
        "id": "NQp-9N7V-VHw"
      },
      "execution_count": 331,
      "outputs": []
    },
    {
      "source": [
        "import torch\n",
        "import torch.nn as nn\n",
        "from torchvision import transforms\n",
        "from PIL import Image\n",
        "from sklearn.metrics import f1_score # Ensure f1_score is imported if find_optimal_thresholds is used\n",
        "\n",
        "# Assuming device is defined globally as in your original notebook\n",
        "# device = 'cuda' if torch.cuda.is_available() else 'cpu'\n",
        "\n",
        "class PenPencilClassifier:\n",
        "    def __init__(self, model, device='cuda' if torch.cuda.is_available() else 'cpu'):\n",
        "        self.device = device\n",
        "        self.model = model.to(self.device) # Move model to device once\n",
        "        self.thresholds = [0.5, 0.5]  # Defaults before tuning\n",
        "        self.class_names = ['Pen', 'Pencil']\n",
        "\n",
        "        # Define the transformation here to reuse it\n",
        "        self.transform = transforms.Compose([\n",
        "            transforms.Grayscale(),\n",
        "            transforms.Resize((28, 28)),\n",
        "            transforms.ToTensor(),\n",
        "            transforms.Normalize((0.5,), (0.5,))\n",
        "        ])\n",
        "\n",
        "    def tune_thresholds(self, val_loader):\n",
        "        # Ensure find_optimal_thresholds is accessible and works with self.model and val_loader\n",
        "        # Assuming find_optimal_thresholds is defined elsewhere and accepts model and loader\n",
        "        self.thresholds = find_optimal_thresholds(self.model, val_loader)\n",
        "        print(f\"Optimized thresholds - Pen: {self.thresholds[0]:.2f}, Pencil: {self.thresholds[1]:.2f}\")\n",
        "\n",
        "    def predict(self, image_path):\n",
        "        self.model.eval() # Set model to evaluation mode\n",
        "\n",
        "        try:\n",
        "            # Load and preprocess image using the stored transform\n",
        "            img = Image.open(image_path)\n",
        "            # Apply the transformation and add a batch dimension, then move to device\n",
        "            img_tensor = self.transform(img).unsqueeze(0).to(self.device)\n",
        "\n",
        "            with torch.no_grad():\n",
        "                # Pass the preprocessed image tensor through the model\n",
        "                output = self.model(img_tensor)\n",
        "                # Get probabilities for each class\n",
        "                pen_prob, pencil_prob = output[0][0].item(), output[0][1].item()\n",
        "\n",
        "            # Use class-specific thresholds for prediction\n",
        "            has_pen = pen_prob > 0.5\n",
        "            has_pencil = pencil_prob > 0.5\n",
        "\n",
        "            # Print prediction results\n",
        "            print(\"\\nPrediction Results:\")\n",
        "            print(\"-\" * 30)\n",
        "            predicted_labels = []\n",
        "            if has_pen:\n",
        "                predicted_labels.append(\"Pen\")\n",
        "            if has_pencil:\n",
        "                predicted_labels.append(\"Pencil\")\n",
        "\n",
        "            if not predicted_labels:\n",
        "                 print(\"Neither Pen nor Pencil\")\n",
        "            else:\n",
        "                 print(\" and \".join(predicted_labels))\n",
        "\n",
        "            print(\"-\" * 30)\n",
        "            print(f\"Confidence - Pen: {pen_prob:.2%} \")\n",
        "            print(f\"Confidence - Pencil: {pencil_prob:.2%}\")\n",
        "\n",
        "        except FileNotFoundError:\n",
        "            print(f\"Error: Image file not found at {image_path}\")\n",
        "        except Exception as e:\n",
        "            print(f\"An error occurred during prediction: {e}\")\n",
        "\n",
        "# Note: The find_optimal_thresholds function needs to be defined before PenPencilClassifier is used.\n",
        "# Make sure the definition of find_optimal_thresholds in your notebook is correct and accessible.\n",
        "# The provided definition of find_optimal_thresholds in ipython-input-462-28c67673e62b looks correct."
      ],
      "cell_type": "code",
      "metadata": {
        "id": "pJZDl4168LzZ"
      },
      "execution_count": 332,
      "outputs": []
    },
    {
      "cell_type": "code",
      "source": [
        "import torch\n",
        "import torch.nn as nn\n",
        "from torchvision import transforms\n",
        "from PIL import Image\n",
        "\n",
        "# Define a dictionary to store layer outputs\n",
        "layer_outputs = {}\n",
        "\n",
        "def get_layer_output(name):\n",
        "    \"\"\"Hook function to store layer output\"\"\"\n",
        "    def hook(model, input, output):\n",
        "        layer_outputs[name] = output.detach()\n",
        "    return hook\n",
        "\n",
        "def predict_with_debug(model, image_path, class_names):\n",
        "    device = torch.device('cuda' if torch.cuda.is_available() else 'cpu')\n",
        "    model = model.to(device)\n",
        "    model.eval()\n",
        "\n",
        "    # Register hooks for all layers\n",
        "    hooks = []\n",
        "    for name, layer in model.named_children():\n",
        "        hook = layer.register_forward_hook(get_layer_output(name))\n",
        "        hooks.append(hook)\n",
        "\n",
        "    # Preprocess image\n",
        "    transform = transforms.Compose([\n",
        "        transforms.Grayscale(),\n",
        "        transforms.Resize((28, 28)),\n",
        "        transforms.ToTensor(),\n",
        "        transforms.Normalize((0.5,), (0.5,))\n",
        "    ])\n",
        "\n",
        "    img = Image.open(image_path)\n",
        "    img_tensor = transform(img).unsqueeze(0).to(device)\n",
        "\n",
        "    # Forward pass (captures all layer outputs in `layer_outputs`)\n",
        "    with torch.no_grad():\n",
        "        output = model(img_tensor)\n",
        "        probs = torch.nn.functional.softmax(output[0], dim=0)\n",
        "        conf, pred_idx = torch.max(probs, 0)\n",
        "\n",
        "    # Remove hooks\n",
        "    for hook in hooks:\n",
        "        hook.remove()\n",
        "\n",
        "    # Print layer outputs (for debugging)\n",
        "    for name, output in layer_outputs.items():\n",
        "        print(f\"Layer: {name}\")\n",
        "        print(f\"Shape: {output.shape}\")\n",
        "        print(f\"Min: {output.min().item()}, Max: {output.max().item()}\")\n",
        "        print(\"-\" * 50)\n",
        "\n",
        "    # Return prediction results\n",
        "    all_probs = {class_names[i]: f\"{probs[i].item()*100:.1f}%\"\n",
        "                for i in range(len(class_names))}\n",
        "    return class_names[pred_idx], conf.item(), all_probs"
      ],
      "metadata": {
        "id": "XUsZPPM76kSP"
      },
      "execution_count": 333,
      "outputs": []
    },
    {
      "cell_type": "code",
      "source": [
        "test_model(model,test_loader)"
      ],
      "metadata": {
        "id": "KqpisB9O7MEk",
        "colab": {
          "base_uri": "https://localhost:8080/"
        },
        "outputId": "e8e2de35-e34b-444c-f563-d64f2b85e430"
      },
      "execution_count": 334,
      "outputs": [
        {
          "output_type": "stream",
          "name": "stdout",
          "text": [
            "\n",
            "Testing model...\n",
            "--------------------------------------------------\n",
            "  ✓ Pred: Pen, Pencil     (True: Pen, Pencil)\n",
            "  ✓ Pred: Pen             (True: Pen)\n",
            "  ✓ Pred: Pen, Pencil     (True: Pen, Pencil)\n",
            "  ✗ Pred: Pen             (True: Pen, Pencil)\n",
            "  ✓ Pred: Pencil          (True: Pencil)\n",
            "\n",
            "Class-wise Performance:\n",
            "--------------------------------------------------\n",
            "Pen            \n",
            "  Precision: 87.76%\n",
            "  Recall:    95.56%\n",
            "  F1 Score:  91.49%\n",
            "--------------------------------------------------\n",
            "Pencil         \n",
            "  Precision: 82.35%\n",
            "  Recall:    73.68%\n",
            "  F1 Score:  77.78%\n",
            "--------------------------------------------------\n",
            "\n",
            "Exact Match Accuracy: 69.84%\n",
            "(Percentage of samples where all labels were predicted correctly)\n",
            "--------------------------------------------------\n"
          ]
        },
        {
          "output_type": "execute_result",
          "data": {
            "text/plain": [
              "{'precision': array([0.877551 , 0.8235294], dtype=float32),\n",
              " 'recall': array([0.95555556, 0.7368421 ], dtype=float32),\n",
              " 'f1': array([0.9148937, 0.7777778], dtype=float32),\n",
              " 'exact_match_accuracy': 69.84126984126983}"
            ]
          },
          "metadata": {},
          "execution_count": 334
        }
      ]
    },
    {
      "cell_type": "code",
      "source": [
        "import matplotlib.pyplot as plt\n",
        "\n",
        "def create_multilabel_confusion_matrix(model, test_loader, class_names, device, threshold=0.5):\n",
        "    \"\"\"\n",
        "    Create a confusion matrix for multi-label classification.\n",
        "\n",
        "    Args:\n",
        "        model: Your trained model\n",
        "        test_loader: DataLoader for test data\n",
        "        class_names: List of class names (e.g., ['pen', 'pencil', 'both'])\n",
        "        device: Device to run computations on\n",
        "        threshold: Threshold for considering a prediction positive\n",
        "    \"\"\"\n",
        "    model.eval()\n",
        "    num_classes = len(class_names)\n",
        "\n",
        "    # Initialize confusion matrices (one per class)\n",
        "    confusion_matrices = {\n",
        "        'tp': torch.zeros(num_classes),\n",
        "        'fp': torch.zeros(num_classes),\n",
        "        'fn': torch.zeros(num_classes),\n",
        "        'tn': torch.zeros(num_classes)\n",
        "    }\n",
        "\n",
        "    with torch.no_grad():\n",
        "        for data, labels in test_loader:\n",
        "            data = data.to(device)\n",
        "            labels = labels.to(device)\n",
        "\n",
        "            outputs = model(data)\n",
        "            preds = (outputs > threshold).float()\n",
        "\n",
        "            # For each class, calculate TP, FP, FN, TN\n",
        "            for i in range(num_classes):\n",
        "                true_pos = (labels[:, i] == 1) & (preds[:, i] == 1)\n",
        "                false_pos = (labels[:, i] == 0) & (preds[:, i] == 1)\n",
        "                false_neg = (labels[:, i] == 1) & (preds[:, i] == 0)\n",
        "                true_neg = (labels[:, i] == 0) & (preds[:, i] == 0)\n",
        "\n",
        "                confusion_matrices['tp'][i] += true_pos.sum().item()\n",
        "                confusion_matrices['fp'][i] += false_pos.sum().item()\n",
        "                confusion_matrices['fn'][i] += false_neg.sum().item()\n",
        "                confusion_matrices['tn'][i] += true_neg.sum().item()\n",
        "\n",
        "    # Plot individual confusion matrices for each class\n",
        "    fig, axes = plt.subplots(1, num_classes, figsize=(5*num_classes, 5))\n",
        "\n",
        "    for i, class_name in enumerate(class_names):\n",
        "        ax = axes[i] if num_classes > 1 else axes\n",
        "        cm = torch.tensor([\n",
        "            [confusion_matrices['tp'][i], confusion_matrices['fn'][i]],\n",
        "            [confusion_matrices['fp'][i], confusion_matrices['tn'][i]]\n",
        "        ])\n",
        "\n",
        "        # Normalize\n",
        "        cm_normalized = cm / cm.sum()\n",
        "\n",
        "        # Plot\n",
        "        im = ax.imshow(cm_normalized.numpy(), interpolation='nearest', cmap=plt.cm.Blues)\n",
        "        ax.set_title(f'Class: {class_name}')\n",
        "        ax.set_xlabel('Predicted')\n",
        "        ax.set_ylabel('Actual')\n",
        "        ax.set_xticks([0, 1])\n",
        "        ax.set_yticks([0, 1])\n",
        "        ax.set_xticklabels(['Positive', 'Negative'])\n",
        "        ax.set_yticklabels(['Positive', 'Negative'])\n",
        "\n",
        "        # Add text annotations\n",
        "        thresh = cm_normalized.max() / 2.\n",
        "        for x in range(2):\n",
        "            for y in range(2):\n",
        "                ax.text(x, y, f\"{cm[y, x]:.0f}\\n({cm_normalized[y, x]*100:.1f}%)\",\n",
        "                       horizontalalignment=\"center\",\n",
        "                       color=\"white\" if cm_normalized[y, x] > thresh else \"black\")\n",
        "\n",
        "    plt.tight_layout()\n",
        "    plt.show()\n",
        "\n",
        "    return confusion_matrices"
      ],
      "metadata": {
        "id": "T3vmy4g8nY7-"
      },
      "execution_count": 335,
      "outputs": []
    },
    {
      "cell_type": "code",
      "source": [
        "#(model,test_loader=test_loader,num_classes=num_classes,device=device)"
      ],
      "metadata": {
        "id": "uIivZVTjoCwM"
      },
      "execution_count": 336,
      "outputs": []
    },
    {
      "cell_type": "code",
      "source": [
        "class_names = ['pen', 'pencil']\n",
        "confusion_matrices = create_multilabel_confusion_matrix(\n",
        "    model,\n",
        "    test_loader,\n",
        "    class_names,\n",
        "    device=device,\n",
        "    threshold=0.5\n",
        ")\n"
      ],
      "metadata": {
        "colab": {
          "base_uri": "https://localhost:8080/",
          "height": 316
        },
        "id": "Kufl0uyjrsf-",
        "outputId": "f70fa3ff-9de0-49bd-d0f5-9c4719e284a7"
      },
      "execution_count": 337,
      "outputs": [
        {
          "output_type": "display_data",
          "data": {
            "text/plain": [
              "<Figure size 1000x500 with 2 Axes>"
            ],
            "image/png": "[encoded data removed]"
          },
          "metadata": {}
        }
      ]
    },
    {
      "cell_type": "code",
      "source": [
        "predictions = PenPencilClassifier(model)\n",
        "predictions.tune_thresholds(val_loader)"
      ],
      "metadata": {
        "id": "3tTnP_zS6sor",
        "colab": {
          "base_uri": "https://localhost:8080/"
        },
        "outputId": "d691e8db-5e8c-495a-d75c-57ca2f303963"
      },
      "execution_count": 338,
      "outputs": [
        {
          "output_type": "stream",
          "name": "stdout",
          "text": [
            "Optimized thresholds - Pen: 0.68, Pencil: 0.33\n"
          ]
        }
      ]
    },
    {
      "cell_type": "code",
      "source": [
        "# Example usage\n",
        "predictions.predict(\"/content/pencil_280523090.jpg\")\n"
      ],
      "metadata": {
        "id": "dJ9m3kM-Xvo4",
        "colab": {
          "base_uri": "https://localhost:8080/"
        },
        "outputId": "0b7a452e-4c3d-4f28-a2e7-4f7159207ad3"
      },
      "execution_count": 339,
      "outputs": [
        {
          "output_type": "stream",
          "name": "stdout",
          "text": [
            "\n",
            "Prediction Results:\n",
            "------------------------------\n",
            "Neither Pen nor Pencil\n",
            "------------------------------\n",
            "Confidence - Pen: 46.03% \n",
            "Confidence - Pencil: 20.49%\n"
          ]
        }
      ]
    },
    {
      "cell_type": "code",
      "source": [
        "# Example usage\n",
        "predictions.predict( \"/content/Example_1.jpg\")\n"
      ],
      "metadata": {
        "id": "isvdYbDyAm1S",
        "colab": {
          "base_uri": "https://localhost:8080/"
        },
        "outputId": "b1757ce2-29a9-4cc6-85bb-f7096264817a"
      },
      "execution_count": 340,
      "outputs": [
        {
          "output_type": "stream",
          "name": "stdout",
          "text": [
            "\n",
            "Prediction Results:\n",
            "------------------------------\n",
            "Pen\n",
            "------------------------------\n",
            "Confidence - Pen: 99.89% \n",
            "Confidence - Pencil: 4.42%\n"
          ]
        }
      ]
    },
    {
      "cell_type": "code",
      "source": [
        "# Example usage\n",
        "predictions.predict( \"/content/Example_2.png\")\n",
        "\n"
      ],
      "metadata": {
        "id": "wvFn47OAB6zE",
        "colab": {
          "base_uri": "https://localhost:8080/"
        },
        "outputId": "757d3c0c-e3b6-49ae-f879-e71ac18625bb"
      },
      "execution_count": 341,
      "outputs": [
        {
          "output_type": "stream",
          "name": "stdout",
          "text": [
            "\n",
            "Prediction Results:\n",
            "------------------------------\n",
            "Pen and Pencil\n",
            "------------------------------\n",
            "Confidence - Pen: 98.82% \n",
            "Confidence - Pencil: 97.86%\n"
          ]
        }
      ]
    },
    {
      "cell_type": "code",
      "source": [
        "# Example usage\n",
        "predictions.predict( \"/content/71uPkyrlipL.jpg\")\n",
        "\n"
      ],
      "metadata": {
        "id": "tZRPJdRgutzF",
        "colab": {
          "base_uri": "https://localhost:8080/"
        },
        "outputId": "1393ca76-b621-436a-fb55-c7fa9df8a709"
      },
      "execution_count": 342,
      "outputs": [
        {
          "output_type": "stream",
          "name": "stdout",
          "text": [
            "\n",
            "Prediction Results:\n",
            "------------------------------\n",
            "Pen\n",
            "------------------------------\n",
            "Confidence - Pen: 100.00% \n",
            "Confidence - Pencil: 1.24%\n"
          ]
        }
      ]
    },
    {
      "cell_type": "code",
      "source": [
        "# Example usage\n",
        "predictions.predict( \"/content/ue2ilgr1xau21.jpg\")\n",
        "\n"
      ],
      "metadata": {
        "colab": {
          "base_uri": "https://localhost:8080/"
        },
        "outputId": "34934f9b-732c-44de-eab8-2085b392c2b7",
        "id": "advb2_eJZvnH"
      },
      "execution_count": 343,
      "outputs": [
        {
          "output_type": "stream",
          "name": "stdout",
          "text": [
            "\n",
            "Prediction Results:\n",
            "------------------------------\n",
            "Pen and Pencil\n",
            "------------------------------\n",
            "Confidence - Pen: 95.77% \n",
            "Confidence - Pencil: 96.26%\n"
          ]
        }
      ]
    },
    {
      "cell_type": "code",
      "source": [],
      "metadata": {
        "id": "nUn7wS-7v2UU"
      },
      "execution_count": 343,
      "outputs": []
    },
    {
      "cell_type": "code",
      "source": [
        "# Example usage\n",
        "predictions.predict(\"/content/51TkKa5QdgL.jpg\")\n",
        "\n"
      ],
      "metadata": {
        "id": "Bwor7Gn7v2kK",
        "colab": {
          "base_uri": "https://localhost:8080/"
        },
        "outputId": "8f053c98-cb64-49fc-eb02-e8f99239b558"
      },
      "execution_count": 344,
      "outputs": [
        {
          "output_type": "stream",
          "name": "stdout",
          "text": [
            "\n",
            "Prediction Results:\n",
            "------------------------------\n",
            "Pen\n",
            "------------------------------\n",
            "Confidence - Pen: 97.62% \n",
            "Confidence - Pencil: 1.49%\n"
          ]
        }
      ]
    },
    {
      "cell_type": "code",
      "source": [
        "# Example usage\n",
        "example_classes = test_loader.dataset.classes\n",
        "\n",
        "pred_class, confidence, all_probs = predict_custom_image(\n",
        "            model=model,\n",
        "            image_path='/content/TTT.jpg',\n",
        "            class_names=example_classes\n",
        "        )\n",
        "\n",
        "print(f\"\\nPrediction Results:\")\n",
        "print(f\"Most likely: {pred_class} ({confidence*100:.2f}% confidence)\")\n",
        "print(\"\\nAll class probabilities:\")\n",
        "for cls, prob in all_probs.items():\n",
        "    print(f\"{cls}: {prob}\")\n"
      ],
      "metadata": {
        "id": "gXkGkojNvSAd",
        "colab": {
          "base_uri": "https://localhost:8080/",
          "height": 251
        },
        "outputId": "019e32a5-78d1-4031-8560-006815a82443"
      },
      "execution_count": 345,
      "outputs": [
        {
          "output_type": "error",
          "ename": "AttributeError",
          "evalue": "'Subset' object has no attribute 'classes'",
          "traceback": [
            "\u001b[0;31m---------------------------------------------------------------------------\u001b[0m",
            "\u001b[0;31mAttributeError\u001b[0m                            Traceback (most recent call last)",
            "\u001b[0;32m<ipython-input-345-7e48e6920c8e>\u001b[0m in \u001b[0;36m<cell line: 0>\u001b[0;34m()\u001b[0m\n\u001b[1;32m      1\u001b[0m \u001b[0;31m# Example usage\u001b[0m\u001b[0;34m\u001b[0m\u001b[0;34m\u001b[0m\u001b[0m\n\u001b[0;32m----> 2\u001b[0;31m \u001b[0mexample_classes\u001b[0m \u001b[0;34m=\u001b[0m \u001b[0mtest_loader\u001b[0m\u001b[0;34m.\u001b[0m\u001b[0mdataset\u001b[0m\u001b[0;34m.\u001b[0m\u001b[0mclasses\u001b[0m\u001b[0;34m\u001b[0m\u001b[0;34m\u001b[0m\u001b[0m\n\u001b[0m\u001b[1;32m      3\u001b[0m \u001b[0;34m\u001b[0m\u001b[0m\n\u001b[1;32m      4\u001b[0m pred_class, confidence, all_probs = predict_custom_image(\n\u001b[1;32m      5\u001b[0m             \u001b[0mmodel\u001b[0m\u001b[0;34m=\u001b[0m\u001b[0mmodel\u001b[0m\u001b[0;34m,\u001b[0m\u001b[0;34m\u001b[0m\u001b[0;34m\u001b[0m\u001b[0m\n",
            "\u001b[0;31mAttributeError\u001b[0m: 'Subset' object has no attribute 'classes'"
          ]
        }
      ]
    },
    {
      "cell_type": "code",
      "source": [
        "# Example usage\n",
        "example_classes = test_loader.dataset.classes\n",
        "\n",
        "pred_class, confidence, all_probs = predict_custom_image(\n",
        "            model=model,\n",
        "            image_path='/content/71uPkyrlipL.jpg',\n",
        "            class_names=example_classes\n",
        "        )\n",
        "\n",
        "print(f\"\\nPrediction Results:\")\n",
        "print(f\"Most likely: {pred_class} ({confidence*100:.2f}% confidence)\")\n",
        "print(\"\\nAll class probabilities:\")\n",
        "for cls, prob in all_probs.items():\n",
        "    print(f\"{cls}: {prob}\")\n"
      ],
      "metadata": {
        "id": "h3vUsdLOveox"
      },
      "execution_count": null,
      "outputs": []
    },
    {
      "cell_type": "code",
      "source": [],
      "metadata": {
        "id": "w-HZ2O3N7j2b"
      },
      "execution_count": null,
      "outputs": []
    }
  ]
}